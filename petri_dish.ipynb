{
 "cells": [
  {
   "cell_type": "code",
   "execution_count": 1,
   "metadata": {},
   "outputs": [
    {
     "data": {
      "text/html": [
       "<style>.container { width:100% !important; }</style>"
      ],
      "text/plain": [
       "<IPython.core.display.HTML object>"
      ]
     },
     "metadata": {},
     "output_type": "display_data"
    }
   ],
   "source": [
    "from graph2net.trainers import generate\n",
    "from graph2net.archetypes import inception,resNet,resNeXt\n",
    "from graph2net.graph_generators import show_cell, gen_cell\n",
    "from graph2net.data_loaders import load_data, visualize_loader\n",
    "import graph2net.notifier\n",
    "from graph2net.notifier import notify_me\n",
    "from graph2net.petri import create_gene_pool,run_petri, mutate_pool\n",
    "\n",
    "from IPython.core.display import display, HTML\n",
    "import numpy as np\n",
    "import matplotlib.pyplot as plt\n",
    "import pandas as pd\n",
    "import logging\n",
    "\n",
    "pd.options.mode.chained_assignment = None \n",
    "logging.basicConfig(filename='logs/model_testbed.log', level=logging.INFO)\n",
    "\n",
    "display(HTML(\"<style>.container { width:100% !important; }</style>\"))"
   ]
  },
  {
   "cell_type": "code",
   "execution_count": 2,
   "metadata": {},
   "outputs": [],
   "source": [
    "%load_ext autoreload\n",
    "%autoreload 2"
   ]
  },
  {
   "cell_type": "code",
   "execution_count": 3,
   "metadata": {},
   "outputs": [],
   "source": [
    "def list_flatten(l):\n",
    "    return [item for sublist in l for item in sublist]\n",
    "\n",
    "data = load_data(batch_size=256)\n",
    "ground_truths = np.array(list_flatten([tgt.tolist() for img,tgt in data[1]]))"
   ]
  },
  {
   "cell_type": "code",
   "execution_count": 53,
   "metadata": {},
   "outputs": [],
   "source": [
    "def get_ensembling(adult_df):\n",
    "    valids = adult_df[adult_df['correct']>0]\n",
    "    top_n_mean=(valids['preds'].cumsum())/(np.arange(len(valids))+1)\n",
    "    top_n_preds = [np.argmax(x,1) for x in top_n_mean]\n",
    "    top_n_corrects = [np.sum(x==ground_truths) for x in top_n_preds]\n",
    "    top_n_corrects += [0]*(len(adult_df)-len(valids))\n",
    "    adult_df['top_n_corrects']=top_n_corrects\n",
    "    return adult_df"
   ]
  },
  {
   "cell_type": "code",
   "execution_count": 120,
   "metadata": {},
   "outputs": [],
   "source": [
    "inclusions = [{\"cell\":inception,\"genotype\":'inception'},\n",
    "              {\"cell\":resNeXt,\"genotype\":'resNeXt'},\n",
    "              {\"cell\":resNet,\"genotype\":'resNet'}]\n",
    "\n",
    "creation_params = {'node_range':[5,13],\n",
    "                  'connectivity_range':[.25,.75],\n",
    "                  'concat':.5}"
   ]
  },
  {
   "cell_type": "code",
   "execution_count": 121,
   "metadata": {
    "scrolled": true
   },
   "outputs": [
    {
     "name": "stdout",
     "output_type": "stream",
     "text": [
      "Generating cell  1  of  2 ...\r",
      "Generating cell  2  of  2 ...\r"
     ]
    }
   ],
   "source": [
    "pool = create_gene_pool(2,inclusions=inclusions,creation_params=creation_params)"
   ]
  },
  {
   "cell_type": "code",
   "execution_count": 122,
   "metadata": {
    "scrolled": true
   },
   "outputs": [
    {
     "data": {
      "text/html": [
       "<div>\n",
       "<style scoped>\n",
       "    .dataframe tbody tr th:only-of-type {\n",
       "        vertical-align: middle;\n",
       "    }\n",
       "\n",
       "    .dataframe tbody tr th {\n",
       "        vertical-align: top;\n",
       "    }\n",
       "\n",
       "    .dataframe thead th {\n",
       "        text-align: right;\n",
       "    }\n",
       "</style>\n",
       "<table border=\"1\" class=\"dataframe\">\n",
       "  <thead>\n",
       "    <tr style=\"text-align: right;\">\n",
       "      <th></th>\n",
       "      <th>acc_preds</th>\n",
       "      <th>adult</th>\n",
       "      <th>cell</th>\n",
       "      <th>confidence</th>\n",
       "      <th>correct</th>\n",
       "      <th>genotype</th>\n",
       "      <th>lineage</th>\n",
       "      <th>loss</th>\n",
       "      <th>macro_pred</th>\n",
       "      <th>mutations</th>\n",
       "      <th>name</th>\n",
       "      <th>offspring</th>\n",
       "      <th>params</th>\n",
       "      <th>preds</th>\n",
       "      <th>type</th>\n",
       "    </tr>\n",
       "  </thead>\n",
       "  <tbody>\n",
       "    <tr>\n",
       "      <th>0</th>\n",
       "      <td>0</td>\n",
       "      <td>False</td>\n",
       "      <td>[[0.0, 1.0, 12.0, 0.0, 1.0, 0.0, 0.0, 10.0, 0....</td>\n",
       "      <td>0</td>\n",
       "      <td>0</td>\n",
       "      <td>n: 12, c: 0.263</td>\n",
       "      <td>[]</td>\n",
       "      <td>0.0</td>\n",
       "      <td>0</td>\n",
       "      <td>0</td>\n",
       "      <td>Ozark Levin Caldwell</td>\n",
       "      <td>0</td>\n",
       "      <td>0</td>\n",
       "      <td>[]</td>\n",
       "      <td>sum</td>\n",
       "    </tr>\n",
       "    <tr>\n",
       "      <th>1</th>\n",
       "      <td>0</td>\n",
       "      <td>False</td>\n",
       "      <td>[[0.0, 1.0, 13.0, 0.0, 9.0, 0.0, 1.0, 0.0], [1...</td>\n",
       "      <td>0</td>\n",
       "      <td>0</td>\n",
       "      <td>n: 8, c: 0.437</td>\n",
       "      <td>[]</td>\n",
       "      <td>0.0</td>\n",
       "      <td>0</td>\n",
       "      <td>0</td>\n",
       "      <td>Kim Houdaille Dostoevsky</td>\n",
       "      <td>0</td>\n",
       "      <td>0</td>\n",
       "      <td>[]</td>\n",
       "      <td>concat</td>\n",
       "    </tr>\n",
       "    <tr>\n",
       "      <th>2</th>\n",
       "      <td>0</td>\n",
       "      <td>False</td>\n",
       "      <td>[[0, 11, 11, 5, 11], [1, 0, 0, 0, 13], [1, 0, ...</td>\n",
       "      <td>0</td>\n",
       "      <td>0</td>\n",
       "      <td>inception</td>\n",
       "      <td>[]</td>\n",
       "      <td>0.0</td>\n",
       "      <td>0</td>\n",
       "      <td>0</td>\n",
       "      <td>Hottentot Carthage Christopher</td>\n",
       "      <td>0</td>\n",
       "      <td>0</td>\n",
       "      <td>[]</td>\n",
       "      <td>concat</td>\n",
       "    </tr>\n",
       "    <tr>\n",
       "      <th>3</th>\n",
       "      <td>0</td>\n",
       "      <td>False</td>\n",
       "      <td>[[0, 3, 0, 1], [0, 0, 13, 0], [0, 0, 0, 2], [0...</td>\n",
       "      <td>0</td>\n",
       "      <td>0</td>\n",
       "      <td>resNeXt</td>\n",
       "      <td>[]</td>\n",
       "      <td>0.0</td>\n",
       "      <td>0</td>\n",
       "      <td>0</td>\n",
       "      <td>Louisiana Minos Shakespeare</td>\n",
       "      <td>0</td>\n",
       "      <td>0</td>\n",
       "      <td>[]</td>\n",
       "      <td>sum</td>\n",
       "    </tr>\n",
       "    <tr>\n",
       "      <th>4</th>\n",
       "      <td>0</td>\n",
       "      <td>False</td>\n",
       "      <td>[[0, 12, 1, 0, 0], [0, 0, 12, 0, 0], [0, 0, 0,...</td>\n",
       "      <td>0</td>\n",
       "      <td>0</td>\n",
       "      <td>resNet</td>\n",
       "      <td>[]</td>\n",
       "      <td>0.0</td>\n",
       "      <td>0</td>\n",
       "      <td>0</td>\n",
       "      <td>Lykes Conner Andrea</td>\n",
       "      <td>0</td>\n",
       "      <td>0</td>\n",
       "      <td>[]</td>\n",
       "      <td>sum</td>\n",
       "    </tr>\n",
       "  </tbody>\n",
       "</table>\n",
       "</div>"
      ],
      "text/plain": [
       "   acc_preds  adult                                               cell  \\\n",
       "0          0  False  [[0.0, 1.0, 12.0, 0.0, 1.0, 0.0, 0.0, 10.0, 0....   \n",
       "1          0  False  [[0.0, 1.0, 13.0, 0.0, 9.0, 0.0, 1.0, 0.0], [1...   \n",
       "2          0  False  [[0, 11, 11, 5, 11], [1, 0, 0, 0, 13], [1, 0, ...   \n",
       "3          0  False  [[0, 3, 0, 1], [0, 0, 13, 0], [0, 0, 0, 2], [0...   \n",
       "4          0  False  [[0, 12, 1, 0, 0], [0, 0, 12, 0, 0], [0, 0, 0,...   \n",
       "\n",
       "   confidence  correct         genotype lineage  loss  macro_pred  mutations  \\\n",
       "0           0        0  n: 12, c: 0.263      []   0.0           0          0   \n",
       "1           0        0   n: 8, c: 0.437      []   0.0           0          0   \n",
       "2           0        0        inception      []   0.0           0          0   \n",
       "3           0        0          resNeXt      []   0.0           0          0   \n",
       "4           0        0           resNet      []   0.0           0          0   \n",
       "\n",
       "                             name  offspring  params preds    type  \n",
       "0            Ozark Levin Caldwell          0       0    []     sum  \n",
       "1        Kim Houdaille Dostoevsky          0       0    []  concat  \n",
       "2  Hottentot Carthage Christopher          0       0    []  concat  \n",
       "3     Louisiana Minos Shakespeare          0       0    []     sum  \n",
       "4             Lykes Conner Andrea          0       0    []     sum  "
      ]
     },
     "execution_count": 122,
     "metadata": {},
     "output_type": "execute_result"
    }
   ],
   "source": [
    "pool"
   ]
  },
  {
   "cell_type": "code",
   "execution_count": null,
   "metadata": {},
   "outputs": [
    {
     "name": "stdout",
     "output_type": "stream",
     "text": [
      "=== GENERATION 0 ===\n",
      "Incubating Cell 4: resNet, m: 0, id: Lykes Conner Andrea, t/per: 31s (best: 41.86%, current:    3/3: 39.63%, Predicted: 4522 (±367.81)                                                                                \r"
     ]
    },
    {
     "data": {
      "text/html": [
       "<div>\n",
       "<style scoped>\n",
       "    .dataframe tbody tr th:only-of-type {\n",
       "        vertical-align: middle;\n",
       "    }\n",
       "\n",
       "    .dataframe tbody tr th {\n",
       "        vertical-align: top;\n",
       "    }\n",
       "\n",
       "    .dataframe thead th {\n",
       "        text-align: right;\n",
       "    }\n",
       "</style>\n",
       "<table border=\"1\" class=\"dataframe\">\n",
       "  <thead>\n",
       "    <tr style=\"text-align: right;\">\n",
       "      <th></th>\n",
       "      <th>acc_preds</th>\n",
       "      <th>adult</th>\n",
       "      <th>cell</th>\n",
       "      <th>confidence</th>\n",
       "      <th>correct</th>\n",
       "      <th>genotype</th>\n",
       "      <th>lineage</th>\n",
       "      <th>loss</th>\n",
       "      <th>macro_pred</th>\n",
       "      <th>mutations</th>\n",
       "      <th>name</th>\n",
       "      <th>offspring</th>\n",
       "      <th>params</th>\n",
       "      <th>preds</th>\n",
       "      <th>type</th>\n",
       "      <th>top_n_corrects</th>\n",
       "    </tr>\n",
       "  </thead>\n",
       "  <tbody>\n",
       "    <tr>\n",
       "      <th>1</th>\n",
       "      <td>4708</td>\n",
       "      <td>True</td>\n",
       "      <td>[[0.0, 1.0, 13.0, 0.0, 9.0, 0.0, 1.0, 0.0], [1...</td>\n",
       "      <td>367</td>\n",
       "      <td>4046</td>\n",
       "      <td>n: 8, c: 0.437</td>\n",
       "      <td>[]</td>\n",
       "      <td>2.0998</td>\n",
       "      <td>7766</td>\n",
       "      <td>0</td>\n",
       "      <td>Kim Houdaille Dostoevsky</td>\n",
       "      <td>0</td>\n",
       "      <td>6391</td>\n",
       "      <td>[[-1.4255796670913696, -2.563965320587158, 0.8...</td>\n",
       "      <td>concat</td>\n",
       "      <td>4046</td>\n",
       "    </tr>\n",
       "    <tr>\n",
       "      <th>3</th>\n",
       "      <td>4696</td>\n",
       "      <td>True</td>\n",
       "      <td>[[0, 3, 0, 1], [0, 0, 13, 0], [0, 0, 0, 2], [0...</td>\n",
       "      <td>367</td>\n",
       "      <td>4186</td>\n",
       "      <td>resNeXt</td>\n",
       "      <td>[]</td>\n",
       "      <td>1.7525</td>\n",
       "      <td>7720</td>\n",
       "      <td>0</td>\n",
       "      <td>Louisiana Minos Shakespeare</td>\n",
       "      <td>0</td>\n",
       "      <td>6044</td>\n",
       "      <td>[[-0.7777613997459412, -0.2571380138397217, -0...</td>\n",
       "      <td>sum</td>\n",
       "      <td>4494</td>\n",
       "    </tr>\n",
       "    <tr>\n",
       "      <th>2</th>\n",
       "      <td>4668</td>\n",
       "      <td>True</td>\n",
       "      <td>[[0, 11, 11, 5, 11], [1, 0, 0, 0, 13], [1, 0, ...</td>\n",
       "      <td>367</td>\n",
       "      <td>4099</td>\n",
       "      <td>inception</td>\n",
       "      <td>[]</td>\n",
       "      <td>2.0061</td>\n",
       "      <td>7708</td>\n",
       "      <td>0</td>\n",
       "      <td>Hottentot Carthage Christopher</td>\n",
       "      <td>0</td>\n",
       "      <td>6034</td>\n",
       "      <td>[[-1.6754698753356934, -2.0090110301971436, 0....</td>\n",
       "      <td>concat</td>\n",
       "      <td>4606</td>\n",
       "    </tr>\n",
       "    <tr>\n",
       "      <th>4</th>\n",
       "      <td>4522</td>\n",
       "      <td>True</td>\n",
       "      <td>[[0, 12, 1, 0, 0], [0, 0, 12, 0, 0], [0, 0, 0,...</td>\n",
       "      <td>367</td>\n",
       "      <td>3963</td>\n",
       "      <td>resNet</td>\n",
       "      <td>[]</td>\n",
       "      <td>2.0490</td>\n",
       "      <td>7612</td>\n",
       "      <td>0</td>\n",
       "      <td>Lykes Conner Andrea</td>\n",
       "      <td>0</td>\n",
       "      <td>6230</td>\n",
       "      <td>[[-0.19779188930988312, -0.09784789383411407, ...</td>\n",
       "      <td>sum</td>\n",
       "      <td>4672</td>\n",
       "    </tr>\n",
       "    <tr>\n",
       "      <th>0</th>\n",
       "      <td>3888</td>\n",
       "      <td>True</td>\n",
       "      <td>[[0.0, 1.0, 12.0, 0.0, 1.0, 0.0, 0.0, 10.0, 0....</td>\n",
       "      <td>367</td>\n",
       "      <td>3048</td>\n",
       "      <td>n: 12, c: 0.263</td>\n",
       "      <td>[]</td>\n",
       "      <td>1.4981</td>\n",
       "      <td>7275</td>\n",
       "      <td>0</td>\n",
       "      <td>Ozark Levin Caldwell</td>\n",
       "      <td>0</td>\n",
       "      <td>8518</td>\n",
       "      <td>[[-0.9554283618927002, 0.23868374526500702, 2....</td>\n",
       "      <td>sum</td>\n",
       "      <td>4665</td>\n",
       "    </tr>\n",
       "  </tbody>\n",
       "</table>\n",
       "</div>"
      ],
      "text/plain": [
       "   acc_preds  adult                                               cell  \\\n",
       "1       4708   True  [[0.0, 1.0, 13.0, 0.0, 9.0, 0.0, 1.0, 0.0], [1...   \n",
       "3       4696   True  [[0, 3, 0, 1], [0, 0, 13, 0], [0, 0, 0, 2], [0...   \n",
       "2       4668   True  [[0, 11, 11, 5, 11], [1, 0, 0, 0, 13], [1, 0, ...   \n",
       "4       4522   True  [[0, 12, 1, 0, 0], [0, 0, 12, 0, 0], [0, 0, 0,...   \n",
       "0       3888   True  [[0.0, 1.0, 12.0, 0.0, 1.0, 0.0, 0.0, 10.0, 0....   \n",
       "\n",
       "   confidence  correct         genotype lineage    loss  macro_pred  \\\n",
       "1         367     4046   n: 8, c: 0.437      []  2.0998        7766   \n",
       "3         367     4186          resNeXt      []  1.7525        7720   \n",
       "2         367     4099        inception      []  2.0061        7708   \n",
       "4         367     3963           resNet      []  2.0490        7612   \n",
       "0         367     3048  n: 12, c: 0.263      []  1.4981        7275   \n",
       "\n",
       "   mutations                            name  offspring  params  \\\n",
       "1          0        Kim Houdaille Dostoevsky          0    6391   \n",
       "3          0     Louisiana Minos Shakespeare          0    6044   \n",
       "2          0  Hottentot Carthage Christopher          0    6034   \n",
       "4          0             Lykes Conner Andrea          0    6230   \n",
       "0          0            Ozark Levin Caldwell          0    8518   \n",
       "\n",
       "                                               preds    type  top_n_corrects  \n",
       "1  [[-1.4255796670913696, -2.563965320587158, 0.8...  concat            4046  \n",
       "3  [[-0.7777613997459412, -0.2571380138397217, -0...     sum            4494  \n",
       "2  [[-1.6754698753356934, -2.0090110301971436, 0....  concat            4606  \n",
       "4  [[-0.19779188930988312, -0.09784789383411407, ...     sum            4672  \n",
       "0  [[-0.9554283618927002, 0.23868374526500702, 2....     sum            4665  "
      ]
     },
     "metadata": {},
     "output_type": "display_data"
    },
    {
     "name": "stdout",
     "output_type": "stream",
     "text": [
      "Mutating cell  3  of  3 ...\n",
      "=== GENERATION 1 ===of  2 ...\n",
      "Incubating Cell 5: resNeXt, m: 1, id: Hillel Remington Noreen, t/per: 0s (best: 41.86%, current:    1/3: 09.82%, Predicted: 4496 (±831.75)                                                                  \r"
     ]
    }
   ],
   "source": [
    "for generation in range(5):\n",
    "    print(\"=== GENERATION {} ===\".format(generation))\n",
    "    adult_df = run_petri(pool,data=data,connectivity='linear',cell_types=[1,1],scale=2,epochs=3,verbose=False,predict=True)\n",
    "    adult_df = get_ensembling(adult_df)\n",
    "    display(adult_df)\n",
    "    adult_df.to_pickle(\"generations/generation_{}.pkl\".format(generation))\n",
    "    #pool = mutate_pool(adult_df, parents=25, children=50, mutation_probability=.25, new_entries=50, creation_params=creation_params)\n",
    "    pool = mutate_pool(adult_df, parents=2, children=3, mutation_probability=.25, new_entries=2, creation_params=creation_params)"
   ]
  },
  {
   "cell_type": "code",
   "execution_count": 76,
   "metadata": {},
   "outputs": [
    {
     "data": {
      "text/plain": [
       "<ErrorbarContainer object of 3 artists>"
      ]
     },
     "execution_count": 76,
     "metadata": {},
     "output_type": "execute_result"
    },
    {
     "data": {
      "image/png": "[encoded data removed]",
      "text/plain": [
       "<Figure size 432x288 with 1 Axes>"
      ]
     },
     "metadata": {
      "needs_background": "light"
     },
     "output_type": "display_data"
    }
   ],
   "source": [
    "plt.errorbar(x=range(len(adult_df)),y=adult_df['acc_preds'],yerr=adult_df['confidence'])"
   ]
  },
  {
   "cell_type": "code",
   "execution_count": null,
   "metadata": {},
   "outputs": [],
   "source": []
  }
 ],
 "metadata": {
  "kernelspec": {
   "display_name": "Python 3",
   "language": "python",
   "name": "python3"
  },
  "language_info": {
   "codemirror_mode": {
    "name": "ipython",
    "version": 3
   },
   "file_extension": ".py",
   "mimetype": "text/x-python",
   "name": "python",
   "nbconvert_exporter": "python",
   "pygments_lexer": "ipython3",
   "version": "3.6.7"
  },
  "toc": {
   "base_numbering": 1,
   "nav_menu": {},
   "number_sections": true,
   "sideBar": true,
   "skip_h1_title": false,
   "title_cell": "Table of Contents",
   "title_sidebar": "Contents",
   "toc_cell": false,
   "toc_position": {},
   "toc_section_display": true,
   "toc_window_display": false
  },
  "varInspector": {
   "cols": {
    "lenName": 16,
    "lenType": 16,
    "lenVar": 40
   },
   "kernels_config": {
    "python": {
     "delete_cmd_postfix": "",
     "delete_cmd_prefix": "del ",
     "library": "var_list.py",
     "varRefreshCmd": "print(var_dic_list())"
    },
    "r": {
     "delete_cmd_postfix": ") ",
     "delete_cmd_prefix": "rm(",
     "library": "var_list.r",
     "varRefreshCmd": "cat(var_dic_list()) "
    }
   },
   "types_to_exclude": [
    "module",
    "function",
    "builtin_function_or_method",
    "instance",
    "_Feature"
   ],
   "window_display": false
  }
 },
 "nbformat": 4,
 "nbformat_minor": 2
}
