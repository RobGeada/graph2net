{
 "cells": [
  {
   "cell_type": "code",
   "execution_count": 1,
   "metadata": {},
   "outputs": [
    {
     "data": {
      "text/html": [
       "<style>.container { width:100% !important; }</style>"
      ],
      "text/plain": [
       "<IPython.core.display.HTML object>"
      ]
     },
     "metadata": {},
     "output_type": "display_data"
    }
   ],
   "source": [
    "from graph2net.trainers import *\n",
    "from graph2net.archetypes import inception,resNet,resNeXt\n",
    "from graph2net.graph_generators import show_cell, gen_cell\n",
    "from graph2net.data_loaders import load_data, visualize_loader\n",
    "import graph2net.notifier\n",
    "from graph2net.notifier import notify_me\n",
    "from graph2net.petri import create_gene_pool,run_petri, mutate_pool\n",
    "\n",
    "from IPython.core.display import display, HTML\n",
    "import numpy as np\n",
    "import matplotlib.pyplot as plt\n",
    "import pandas as pd\n",
    "import logging\n",
    "import time\n",
    "\n",
    "pd.options.mode.chained_assignment = None \n",
    "logging.basicConfig(filename='logs/model_testbed.log', level=logging.INFO)\n",
    "\n",
    "display(HTML(\"<style>.container { width:100% !important; }</style>\"))"
   ]
  },
  {
   "cell_type": "code",
   "execution_count": 2,
   "metadata": {},
   "outputs": [],
   "source": [
    "%load_ext autoreload\n",
    "%autoreload 2"
   ]
  },
  {
   "cell_type": "code",
   "execution_count": 3,
   "metadata": {},
   "outputs": [],
   "source": [
    "def list_flatten(l):\n",
    "    return [item for sublist in l for item in sublist]\n",
    "\n",
    "data = load_data(batch_size=256)\n",
    "ground_truths = np.array(list_flatten([tgt.tolist() for img,tgt in data[1]]))"
   ]
  },
  {
   "cell_type": "code",
   "execution_count": 4,
   "metadata": {},
   "outputs": [],
   "source": [
    "def get_ensembling(adult_df):\n",
    "    valids = adult_df[adult_df['correct']>0]\n",
    "    top_n_mean=(valids['preds'].cumsum())/(np.arange(len(valids))+1)\n",
    "    top_n_preds = [np.argmax(x,1) for x in top_n_mean]\n",
    "    top_n_corrects = [np.sum(x==ground_truths) for x in top_n_preds]\n",
    "    top_n_corrects += [0]*(len(adult_df)-len(valids))\n",
    "    adult_df['top_n_corrects']=top_n_corrects\n",
    "    return adult_df"
   ]
  },
  {
   "cell_type": "code",
   "execution_count": 5,
   "metadata": {},
   "outputs": [],
   "source": [
    "inclusions = [{\"cell\":inception,\"genotype\":'inception'},\n",
    "              {\"cell\":resNeXt,\"genotype\":'resNeXt'},\n",
    "              {\"cell\":resNet,\"genotype\":'resNet'}]\n",
    "\n",
    "creation_params = {'node_range':[6,10],\n",
    "                  'connectivity_range':[.25,.75],\n",
    "                  'concat':.5}"
   ]
  },
  {
   "cell_type": "code",
   "execution_count": 6,
   "metadata": {
    "scrolled": true
   },
   "outputs": [
    {
     "name": "stdout",
     "output_type": "stream",
     "text": [
      "Generating cell 98  of 98 ...\r"
     ]
    }
   ],
   "source": [
    "pool = create_gene_pool(98,inclusions=inclusions,creation_params=creation_params)"
   ]
  },
  {
   "cell_type": "code",
   "execution_count": 10,
   "metadata": {
    "scrolled": true
   },
   "outputs": [
    {
     "name": "stdout",
     "output_type": "stream",
     "text": [
      "=== GENERATION 0 ===\n",
      "Incubating Cell 5: n: 9, c: 0.505, m: 0, id: Evansville Shipley Klux, t/per: 36s (best: 60.97%, current:    1/3: 41.90%, Predicted: 3678 (± 918)                                                                        \r"
     ]
    },
    {
     "ename": "KeyboardInterrupt",
     "evalue": "",
     "output_type": "error",
     "traceback": [
      "\u001b[0;31m---------------------------------------------------------------------------\u001b[0m",
      "\u001b[0;31mKeyboardInterrupt\u001b[0m                         Traceback (most recent call last)",
      "\u001b[0;32m~/Documents/Programming/Python/graph2net/graph2net/trainers.py\u001b[0m in \u001b[0;36mfull_model_run\u001b[0;34m(model, **kwargs)\u001b[0m\n\u001b[1;32m    271\u001b[0m                   \u001b[0mlogger\u001b[0m\u001b[0;34m=\u001b[0m\u001b[0mlogger\u001b[0m\u001b[0;34m,\u001b[0m\u001b[0;34m\u001b[0m\u001b[0;34m\u001b[0m\u001b[0m\n\u001b[0;32m--> 272\u001b[0;31m                   verbose=kwargs.get('verbose', False))\n\u001b[0m\u001b[1;32m    273\u001b[0m             \u001b[0mepoch_times\u001b[0m\u001b[0;34m.\u001b[0m\u001b[0mappend\u001b[0m\u001b[0;34m(\u001b[0m\u001b[0mtime\u001b[0m\u001b[0;34m(\u001b[0m\u001b[0;34m)\u001b[0m \u001b[0;34m-\u001b[0m \u001b[0mt_start\u001b[0m\u001b[0;34m)\u001b[0m\u001b[0;34m\u001b[0m\u001b[0;34m\u001b[0m\u001b[0m\n",
      "\u001b[0;32m~/Documents/Programming/Python/graph2net/graph2net/trainers.py\u001b[0m in \u001b[0;36mtrain\u001b[0;34m(model, device, train_loader, **kwargs)\u001b[0m\n\u001b[1;32m     62\u001b[0m \u001b[0;34m\u001b[0m\u001b[0m\n\u001b[0;32m---> 63\u001b[0;31m     \u001b[0;32mfor\u001b[0m \u001b[0mbatch_idx\u001b[0m\u001b[0;34m,\u001b[0m \u001b[0;34m(\u001b[0m\u001b[0mdata\u001b[0m\u001b[0;34m,\u001b[0m \u001b[0mtarget\u001b[0m\u001b[0;34m)\u001b[0m \u001b[0;32min\u001b[0m \u001b[0menumerate\u001b[0m\u001b[0;34m(\u001b[0m\u001b[0mtrain_loader\u001b[0m\u001b[0;34m)\u001b[0m\u001b[0;34m:\u001b[0m\u001b[0;34m\u001b[0m\u001b[0;34m\u001b[0m\u001b[0m\n\u001b[0m\u001b[1;32m     64\u001b[0m         \u001b[0mdata\u001b[0m\u001b[0;34m,\u001b[0m \u001b[0mtarget\u001b[0m \u001b[0;34m=\u001b[0m \u001b[0mdata\u001b[0m\u001b[0;34m.\u001b[0m\u001b[0mto\u001b[0m\u001b[0;34m(\u001b[0m\u001b[0mdevice\u001b[0m\u001b[0;34m)\u001b[0m\u001b[0;34m,\u001b[0m \u001b[0mtarget\u001b[0m\u001b[0;34m.\u001b[0m\u001b[0mto\u001b[0m\u001b[0;34m(\u001b[0m\u001b[0mdevice\u001b[0m\u001b[0;34m)\u001b[0m\u001b[0;34m\u001b[0m\u001b[0;34m\u001b[0m\u001b[0m\n",
      "\u001b[0;32m~/.local/lib/python3.6/site-packages/torch/utils/data/dataloader.py\u001b[0m in \u001b[0;36m__next__\u001b[0;34m(self)\u001b[0m\n\u001b[1;32m    313\u001b[0m             \u001b[0mindices\u001b[0m \u001b[0;34m=\u001b[0m \u001b[0mnext\u001b[0m\u001b[0;34m(\u001b[0m\u001b[0mself\u001b[0m\u001b[0;34m.\u001b[0m\u001b[0msample_iter\u001b[0m\u001b[0;34m)\u001b[0m  \u001b[0;31m# may raise StopIteration\u001b[0m\u001b[0;34m\u001b[0m\u001b[0;34m\u001b[0m\u001b[0m\n\u001b[0;32m--> 314\u001b[0;31m             \u001b[0mbatch\u001b[0m \u001b[0;34m=\u001b[0m \u001b[0mself\u001b[0m\u001b[0;34m.\u001b[0m\u001b[0mcollate_fn\u001b[0m\u001b[0;34m(\u001b[0m\u001b[0;34m[\u001b[0m\u001b[0mself\u001b[0m\u001b[0;34m.\u001b[0m\u001b[0mdataset\u001b[0m\u001b[0;34m[\u001b[0m\u001b[0mi\u001b[0m\u001b[0;34m]\u001b[0m \u001b[0;32mfor\u001b[0m \u001b[0mi\u001b[0m \u001b[0;32min\u001b[0m \u001b[0mindices\u001b[0m\u001b[0;34m]\u001b[0m\u001b[0;34m)\u001b[0m\u001b[0;34m\u001b[0m\u001b[0;34m\u001b[0m\u001b[0m\n\u001b[0m\u001b[1;32m    315\u001b[0m             \u001b[0;32mif\u001b[0m \u001b[0mself\u001b[0m\u001b[0;34m.\u001b[0m\u001b[0mpin_memory\u001b[0m\u001b[0;34m:\u001b[0m\u001b[0;34m\u001b[0m\u001b[0;34m\u001b[0m\u001b[0m\n",
      "\u001b[0;32m~/.local/lib/python3.6/site-packages/torch/utils/data/dataloader.py\u001b[0m in \u001b[0;36m<listcomp>\u001b[0;34m(.0)\u001b[0m\n\u001b[1;32m    313\u001b[0m             \u001b[0mindices\u001b[0m \u001b[0;34m=\u001b[0m \u001b[0mnext\u001b[0m\u001b[0;34m(\u001b[0m\u001b[0mself\u001b[0m\u001b[0;34m.\u001b[0m\u001b[0msample_iter\u001b[0m\u001b[0;34m)\u001b[0m  \u001b[0;31m# may raise StopIteration\u001b[0m\u001b[0;34m\u001b[0m\u001b[0;34m\u001b[0m\u001b[0m\n\u001b[0;32m--> 314\u001b[0;31m             \u001b[0mbatch\u001b[0m \u001b[0;34m=\u001b[0m \u001b[0mself\u001b[0m\u001b[0;34m.\u001b[0m\u001b[0mcollate_fn\u001b[0m\u001b[0;34m(\u001b[0m\u001b[0;34m[\u001b[0m\u001b[0mself\u001b[0m\u001b[0;34m.\u001b[0m\u001b[0mdataset\u001b[0m\u001b[0;34m[\u001b[0m\u001b[0mi\u001b[0m\u001b[0;34m]\u001b[0m \u001b[0;32mfor\u001b[0m \u001b[0mi\u001b[0m \u001b[0;32min\u001b[0m \u001b[0mindices\u001b[0m\u001b[0;34m]\u001b[0m\u001b[0;34m)\u001b[0m\u001b[0;34m\u001b[0m\u001b[0;34m\u001b[0m\u001b[0m\n\u001b[0m\u001b[1;32m    315\u001b[0m             \u001b[0;32mif\u001b[0m \u001b[0mself\u001b[0m\u001b[0;34m.\u001b[0m\u001b[0mpin_memory\u001b[0m\u001b[0;34m:\u001b[0m\u001b[0;34m\u001b[0m\u001b[0;34m\u001b[0m\u001b[0m\n",
      "\u001b[0;32m~/.local/lib/python3.6/site-packages/torchvision/datasets/cifar.py\u001b[0m in \u001b[0;36m__getitem__\u001b[0;34m(self, index)\u001b[0m\n\u001b[1;32m    120\u001b[0m         \u001b[0;32mif\u001b[0m \u001b[0mself\u001b[0m\u001b[0;34m.\u001b[0m\u001b[0mtransform\u001b[0m \u001b[0;32mis\u001b[0m \u001b[0;32mnot\u001b[0m \u001b[0;32mNone\u001b[0m\u001b[0;34m:\u001b[0m\u001b[0;34m\u001b[0m\u001b[0;34m\u001b[0m\u001b[0m\n\u001b[0;32m--> 121\u001b[0;31m             \u001b[0mimg\u001b[0m \u001b[0;34m=\u001b[0m \u001b[0mself\u001b[0m\u001b[0;34m.\u001b[0m\u001b[0mtransform\u001b[0m\u001b[0;34m(\u001b[0m\u001b[0mimg\u001b[0m\u001b[0;34m)\u001b[0m\u001b[0;34m\u001b[0m\u001b[0;34m\u001b[0m\u001b[0m\n\u001b[0m\u001b[1;32m    122\u001b[0m \u001b[0;34m\u001b[0m\u001b[0m\n",
      "\u001b[0;32m~/.local/lib/python3.6/site-packages/torchvision/transforms/transforms.py\u001b[0m in \u001b[0;36m__call__\u001b[0;34m(self, img)\u001b[0m\n\u001b[1;32m     48\u001b[0m         \u001b[0;32mfor\u001b[0m \u001b[0mt\u001b[0m \u001b[0;32min\u001b[0m \u001b[0mself\u001b[0m\u001b[0;34m.\u001b[0m\u001b[0mtransforms\u001b[0m\u001b[0;34m:\u001b[0m\u001b[0;34m\u001b[0m\u001b[0;34m\u001b[0m\u001b[0m\n\u001b[0;32m---> 49\u001b[0;31m             \u001b[0mimg\u001b[0m \u001b[0;34m=\u001b[0m \u001b[0mt\u001b[0m\u001b[0;34m(\u001b[0m\u001b[0mimg\u001b[0m\u001b[0;34m)\u001b[0m\u001b[0;34m\u001b[0m\u001b[0;34m\u001b[0m\u001b[0m\n\u001b[0m\u001b[1;32m     50\u001b[0m         \u001b[0;32mreturn\u001b[0m \u001b[0mimg\u001b[0m\u001b[0;34m\u001b[0m\u001b[0;34m\u001b[0m\u001b[0m\n",
      "\u001b[0;32m~/.local/lib/python3.6/site-packages/torchvision/transforms/transforms.py\u001b[0m in \u001b[0;36m__call__\u001b[0;34m(self, pic)\u001b[0m\n\u001b[1;32m     75\u001b[0m         \"\"\"\n\u001b[0;32m---> 76\u001b[0;31m         \u001b[0;32mreturn\u001b[0m \u001b[0mF\u001b[0m\u001b[0;34m.\u001b[0m\u001b[0mto_tensor\u001b[0m\u001b[0;34m(\u001b[0m\u001b[0mpic\u001b[0m\u001b[0;34m)\u001b[0m\u001b[0;34m\u001b[0m\u001b[0;34m\u001b[0m\u001b[0m\n\u001b[0m\u001b[1;32m     77\u001b[0m \u001b[0;34m\u001b[0m\u001b[0m\n",
      "\u001b[0;32m~/.local/lib/python3.6/site-packages/torchvision/transforms/functional.py\u001b[0m in \u001b[0;36mto_tensor\u001b[0;34m(pic)\u001b[0m\n\u001b[1;32m     47\u001b[0m         \u001b[0;31m# handle numpy array\u001b[0m\u001b[0;34m\u001b[0m\u001b[0;34m\u001b[0m\u001b[0;34m\u001b[0m\u001b[0m\n\u001b[0;32m---> 48\u001b[0;31m         \u001b[0mimg\u001b[0m \u001b[0;34m=\u001b[0m \u001b[0mtorch\u001b[0m\u001b[0;34m.\u001b[0m\u001b[0mfrom_numpy\u001b[0m\u001b[0;34m(\u001b[0m\u001b[0mpic\u001b[0m\u001b[0;34m.\u001b[0m\u001b[0mtranspose\u001b[0m\u001b[0;34m(\u001b[0m\u001b[0;34m(\u001b[0m\u001b[0;36m2\u001b[0m\u001b[0;34m,\u001b[0m \u001b[0;36m0\u001b[0m\u001b[0;34m,\u001b[0m \u001b[0;36m1\u001b[0m\u001b[0;34m)\u001b[0m\u001b[0;34m)\u001b[0m\u001b[0;34m)\u001b[0m\u001b[0;34m\u001b[0m\u001b[0;34m\u001b[0m\u001b[0m\n\u001b[0m\u001b[1;32m     49\u001b[0m         \u001b[0;31m# backward compatibility\u001b[0m\u001b[0;34m\u001b[0m\u001b[0;34m\u001b[0m\u001b[0;34m\u001b[0m\u001b[0m\n",
      "\u001b[0;31mKeyboardInterrupt\u001b[0m: ",
      "\nDuring handling of the above exception, another exception occurred:\n",
      "\u001b[0;31mKeyboardInterrupt\u001b[0m                         Traceback (most recent call last)",
      "\u001b[0;32m<ipython-input-10-88d108cfee16>\u001b[0m in \u001b[0;36m<module>\u001b[0;34m\u001b[0m\n\u001b[1;32m      1\u001b[0m \u001b[0;32mfor\u001b[0m \u001b[0mgeneration\u001b[0m \u001b[0;32min\u001b[0m \u001b[0mrange\u001b[0m\u001b[0;34m(\u001b[0m\u001b[0;36m5\u001b[0m\u001b[0;34m)\u001b[0m\u001b[0;34m:\u001b[0m\u001b[0;34m\u001b[0m\u001b[0;34m\u001b[0m\u001b[0m\n\u001b[1;32m      2\u001b[0m     \u001b[0mprint\u001b[0m\u001b[0;34m(\u001b[0m\u001b[0;34m\"=== GENERATION {} ===\"\u001b[0m\u001b[0;34m.\u001b[0m\u001b[0mformat\u001b[0m\u001b[0;34m(\u001b[0m\u001b[0mgeneration\u001b[0m\u001b[0;34m)\u001b[0m\u001b[0;34m)\u001b[0m\u001b[0;34m\u001b[0m\u001b[0;34m\u001b[0m\u001b[0m\n\u001b[0;32m----> 3\u001b[0;31m     \u001b[0madult_df\u001b[0m \u001b[0;34m=\u001b[0m \u001b[0mrun_petri\u001b[0m\u001b[0;34m(\u001b[0m\u001b[0mpool\u001b[0m\u001b[0;34m,\u001b[0m\u001b[0mdata\u001b[0m\u001b[0;34m=\u001b[0m\u001b[0mdata\u001b[0m\u001b[0;34m,\u001b[0m\u001b[0mconnectivity\u001b[0m\u001b[0;34m=\u001b[0m\u001b[0;34m'linear'\u001b[0m\u001b[0;34m,\u001b[0m\u001b[0mcell_types\u001b[0m\u001b[0;34m=\u001b[0m\u001b[0;34m[\u001b[0m\u001b[0;36m1\u001b[0m\u001b[0;34m,\u001b[0m\u001b[0;36m1\u001b[0m\u001b[0;34m]\u001b[0m\u001b[0;34m,\u001b[0m\u001b[0mscale\u001b[0m\u001b[0;34m=\u001b[0m\u001b[0;36m2\u001b[0m\u001b[0;34m,\u001b[0m\u001b[0mepochs\u001b[0m\u001b[0;34m=\u001b[0m\u001b[0;36m3\u001b[0m\u001b[0;34m,\u001b[0m\u001b[0mverbose\u001b[0m\u001b[0;34m=\u001b[0m\u001b[0;32mFalse\u001b[0m\u001b[0;34m,\u001b[0m\u001b[0mpredict\u001b[0m\u001b[0;34m=\u001b[0m\u001b[0;32mTrue\u001b[0m\u001b[0;34m)\u001b[0m\u001b[0;34m\u001b[0m\u001b[0;34m\u001b[0m\u001b[0m\n\u001b[0m\u001b[1;32m      4\u001b[0m     \u001b[0madult_df\u001b[0m \u001b[0;34m=\u001b[0m \u001b[0mget_ensembling\u001b[0m\u001b[0;34m(\u001b[0m\u001b[0madult_df\u001b[0m\u001b[0;34m)\u001b[0m\u001b[0;34m\u001b[0m\u001b[0;34m\u001b[0m\u001b[0m\n\u001b[1;32m      5\u001b[0m     \u001b[0mdisplay\u001b[0m\u001b[0;34m(\u001b[0m\u001b[0madult_df\u001b[0m\u001b[0;34m.\u001b[0m\u001b[0mreset_index\u001b[0m\u001b[0;34m(\u001b[0m\u001b[0mdrop\u001b[0m\u001b[0;34m=\u001b[0m\u001b[0;32mTrue\u001b[0m\u001b[0;34m)\u001b[0m\u001b[0;34m)\u001b[0m\u001b[0;34m\u001b[0m\u001b[0;34m\u001b[0m\u001b[0m\n",
      "\u001b[0;32m~/Documents/Programming/Python/graph2net/graph2net/petri.py\u001b[0m in \u001b[0;36mrun_petri\u001b[0;34m(df, **kwargs)\u001b[0m\n\u001b[1;32m    118\u001b[0m                                                                       \u001b[0mtrack_progress\u001b[0m\u001b[0;34m=\u001b[0m\u001b[0;32mnot\u001b[0m \u001b[0mkwargs\u001b[0m\u001b[0;34m.\u001b[0m\u001b[0mget\u001b[0m\u001b[0;34m(\u001b[0m\u001b[0;34m'verbose'\u001b[0m\u001b[0;34m,\u001b[0m \u001b[0;32mTrue\u001b[0m\u001b[0;34m)\u001b[0m\u001b[0;34m,\u001b[0m\u001b[0;34m\u001b[0m\u001b[0;34m\u001b[0m\u001b[0m\n\u001b[1;32m    119\u001b[0m                                                                       \u001b[0mprefix\u001b[0m\u001b[0;34m=\u001b[0m\u001b[0mprefix\u001b[0m\u001b[0;34m,\u001b[0m\u001b[0;34m\u001b[0m\u001b[0;34m\u001b[0m\u001b[0m\n\u001b[0;32m--> 120\u001b[0;31m                                                                       verbose=kwargs.get('verbose', True))\n\u001b[0m\u001b[1;32m    121\u001b[0m \u001b[0;34m\u001b[0m\u001b[0m\n\u001b[1;32m    122\u001b[0m                 \u001b[0mbest_epoch\u001b[0m \u001b[0;34m=\u001b[0m \u001b[0mnp\u001b[0m\u001b[0;34m.\u001b[0m\u001b[0margmax\u001b[0m\u001b[0;34m(\u001b[0m\u001b[0mcorrect\u001b[0m\u001b[0;34m)\u001b[0m\u001b[0;34m\u001b[0m\u001b[0;34m\u001b[0m\u001b[0m\n",
      "\u001b[0;32m~/Documents/Programming/Python/graph2net/graph2net/trainers.py\u001b[0m in \u001b[0;36mfull_model_run\u001b[0;34m(model, **kwargs)\u001b[0m\n\u001b[1;32m    356\u001b[0m         \u001b[0;32mif\u001b[0m \u001b[0mkwargs\u001b[0m\u001b[0;34m.\u001b[0m\u001b[0mget\u001b[0m\u001b[0;34m(\u001b[0m\u001b[0;34m'verbose'\u001b[0m\u001b[0;34m,\u001b[0m \u001b[0;32mFalse\u001b[0m\u001b[0;34m)\u001b[0m\u001b[0;34m:\u001b[0m\u001b[0;34m\u001b[0m\u001b[0;34m\u001b[0m\u001b[0m\n\u001b[1;32m    357\u001b[0m             \u001b[0mprint\u001b[0m\u001b[0;34m(\u001b[0m\u001b[0;34m\"Terminating early...\"\u001b[0m\u001b[0;34m)\u001b[0m\u001b[0;34m\u001b[0m\u001b[0;34m\u001b[0m\u001b[0m\n\u001b[0;32m--> 358\u001b[0;31m         \u001b[0;32mraise\u001b[0m \u001b[0mKeyboardInterrupt\u001b[0m\u001b[0;34m\u001b[0m\u001b[0;34m\u001b[0m\u001b[0m\n\u001b[0m\u001b[1;32m    359\u001b[0m     \u001b[0;32mexcept\u001b[0m \u001b[0mException\u001b[0m \u001b[0;32mas\u001b[0m \u001b[0me\u001b[0m\u001b[0;34m:\u001b[0m\u001b[0;34m\u001b[0m\u001b[0;34m\u001b[0m\u001b[0m\n\u001b[1;32m    360\u001b[0m         \u001b[0;32mraise\u001b[0m \u001b[0me\u001b[0m\u001b[0;34m\u001b[0m\u001b[0;34m\u001b[0m\u001b[0m\n",
      "\u001b[0;31mKeyboardInterrupt\u001b[0m: "
     ]
    }
   ],
   "source": [
    "for generation in range(5):\n",
    "    print(\"=== GENERATION {} ===\".format(generation))\n",
    "    adult_df = run_petri(pool,data=data,connectivity='linear',cell_types=[1,1],scale=2,epochs=3,verbose=False,predict=True)\n",
    "    adult_df = get_ensembling(adult_df)\n",
    "    display(adult_df.reset_index(drop=True))\n",
    "    adult_df.to_pickle(\"generations/generation_{}.pkl\".format(generation))\n",
    "    pool = mutate_pool(adult_df, parents=25, children=50, mutation_probability=.05, new_entries=50, creation_params=creation_params)"
   ]
  },
  {
   "cell_type": "code",
   "execution_count": 12,
   "metadata": {
    "scrolled": true
   },
   "outputs": [
    {
     "data": {
      "text/html": [
       "<div>\n",
       "<style scoped>\n",
       "    .dataframe tbody tr th:only-of-type {\n",
       "        vertical-align: middle;\n",
       "    }\n",
       "\n",
       "    .dataframe tbody tr th {\n",
       "        vertical-align: top;\n",
       "    }\n",
       "\n",
       "    .dataframe thead th {\n",
       "        text-align: right;\n",
       "    }\n",
       "</style>\n",
       "<table border=\"1\" class=\"dataframe\">\n",
       "  <thead>\n",
       "    <tr style=\"text-align: right;\">\n",
       "      <th></th>\n",
       "      <th>acc_pred</th>\n",
       "      <th>adult</th>\n",
       "      <th>cell</th>\n",
       "      <th>confidence</th>\n",
       "      <th>correct</th>\n",
       "      <th>genotype</th>\n",
       "      <th>lineage</th>\n",
       "      <th>loss</th>\n",
       "      <th>macro_pred</th>\n",
       "      <th>mutations</th>\n",
       "      <th>name</th>\n",
       "      <th>offspring</th>\n",
       "      <th>params</th>\n",
       "      <th>preds</th>\n",
       "      <th>top_n_corrects</th>\n",
       "      <th>type</th>\n",
       "    </tr>\n",
       "  </thead>\n",
       "  <tbody>\n",
       "    <tr>\n",
       "      <th>836</th>\n",
       "      <td>7078</td>\n",
       "      <td>True</td>\n",
       "      <td>[[0.0, 1.0, 8.0, 1.0, 0.0, 0.0, 13.0, 15.0, 5....</td>\n",
       "      <td>380</td>\n",
       "      <td>5783</td>\n",
       "      <td>n: 14, c: 0.707</td>\n",
       "      <td>[Lipton Athena Clive, McLeod Raoul Hoffman, Ag...</td>\n",
       "      <td>3.5746</td>\n",
       "      <td>9948</td>\n",
       "      <td>5</td>\n",
       "      <td>Churchill Mesopotamia Hurwitz</td>\n",
       "      <td>0</td>\n",
       "      <td>22510</td>\n",
       "      <td>[[0.975654661655426, 0.059765931218862534, 0.6...</td>\n",
       "      <td>5783</td>\n",
       "      <td>sum</td>\n",
       "    </tr>\n",
       "    <tr>\n",
       "      <th>0</th>\n",
       "      <td>7033</td>\n",
       "      <td>True</td>\n",
       "      <td>[[0.0, 1.0, 1.0, 1.0, 0.0, 0.0, 13.0, 15.0, 0....</td>\n",
       "      <td>380</td>\n",
       "      <td>5748</td>\n",
       "      <td>n: 14, c: 0.707</td>\n",
       "      <td>[Hindi Sammy Juanita, Geminid Balkan Freetown,...</td>\n",
       "      <td>3.7149</td>\n",
       "      <td>9835</td>\n",
       "      <td>3</td>\n",
       "      <td>McCormick Minsky Antaeus</td>\n",
       "      <td>3</td>\n",
       "      <td>21910</td>\n",
       "      <td>[[-0.10546603053808212, -2.682469606399536, 1....</td>\n",
       "      <td>6054</td>\n",
       "      <td>sum</td>\n",
       "    </tr>\n",
       "    <tr>\n",
       "      <th>1</th>\n",
       "      <td>6996</td>\n",
       "      <td>True</td>\n",
       "      <td>[[0.0, 1.0, 1.0, 1.0, 14.0, 0.0, 13.0, 15.0, 5...</td>\n",
       "      <td>380</td>\n",
       "      <td>5700</td>\n",
       "      <td>n: 14, c: 0.707</td>\n",
       "      <td>[Schmitt Homeric Miltonic, Ariadne Purdue Monr...</td>\n",
       "      <td>3.5299</td>\n",
       "      <td>9946</td>\n",
       "      <td>4</td>\n",
       "      <td>Lucifer Pluto Birmingham</td>\n",
       "      <td>4</td>\n",
       "      <td>22506</td>\n",
       "      <td>[[-0.1727834939956665, -2.552724838256836, 2.1...</td>\n",
       "      <td>6147</td>\n",
       "      <td>sum</td>\n",
       "    </tr>\n",
       "    <tr>\n",
       "      <th>2</th>\n",
       "      <td>6986</td>\n",
       "      <td>True</td>\n",
       "      <td>[[0.0, 1.0, 1.0, 1.0, 5.0, 0.0, 13.0, 15.0, 5....</td>\n",
       "      <td>380</td>\n",
       "      <td>5681</td>\n",
       "      <td>n: 14, c: 0.707</td>\n",
       "      <td>[Latinate Duluth Rutland, Ariadne Purdue Monro...</td>\n",
       "      <td>3.7151</td>\n",
       "      <td>10030</td>\n",
       "      <td>4</td>\n",
       "      <td>McNaughton Nostrand Barnhard</td>\n",
       "      <td>0</td>\n",
       "      <td>23054</td>\n",
       "      <td>[[-0.046615831553936005, -1.0343507528305054, ...</td>\n",
       "      <td>6183</td>\n",
       "      <td>sum</td>\n",
       "    </tr>\n",
       "    <tr>\n",
       "      <th>3</th>\n",
       "      <td>6970</td>\n",
       "      <td>True</td>\n",
       "      <td>[[0.0, 5.0, 1.0, 5.0, 0.0, 0.0, 1.0, 0.0, 0.0,...</td>\n",
       "      <td>380</td>\n",
       "      <td>5566</td>\n",
       "      <td>n: 14, c: 0.688</td>\n",
       "      <td>[Fischer Paulson Kerouac]</td>\n",
       "      <td>3.6633</td>\n",
       "      <td>11045</td>\n",
       "      <td>1</td>\n",
       "      <td>Igor Franz Maryland</td>\n",
       "      <td>4</td>\n",
       "      <td>28574</td>\n",
       "      <td>[[-0.9154147505760193, -2.4322259426116943, 0....</td>\n",
       "      <td>6262</td>\n",
       "      <td>sum</td>\n",
       "    </tr>\n",
       "    <tr>\n",
       "      <th>846</th>\n",
       "      <td>6964</td>\n",
       "      <td>True</td>\n",
       "      <td>[[0.0, 1.0, 14.0, 1.0, 0.0, 0.0, 13.0, 15.0, 5...</td>\n",
       "      <td>380</td>\n",
       "      <td>5662</td>\n",
       "      <td>n: 14, c: 0.707</td>\n",
       "      <td>[Lipton Athena Clive, McLeod Raoul Hoffman, Ag...</td>\n",
       "      <td>3.5513</td>\n",
       "      <td>9926</td>\n",
       "      <td>5</td>\n",
       "      <td>Fogarty Labrador Olsen</td>\n",
       "      <td>0</td>\n",
       "      <td>22614</td>\n",
       "      <td>[[-1.2526894807815552, -1.125349521636963, 0.0...</td>\n",
       "      <td>6287</td>\n",
       "      <td>sum</td>\n",
       "    </tr>\n",
       "    <tr>\n",
       "      <th>4</th>\n",
       "      <td>6961</td>\n",
       "      <td>True</td>\n",
       "      <td>[[0.0, 1.0, 1.0, 1.0, 5.0, 0.0, 13.0, 15.0, 5....</td>\n",
       "      <td>380</td>\n",
       "      <td>5659</td>\n",
       "      <td>n: 14, c: 0.707</td>\n",
       "      <td>[Ariadne Purdue Monrovia, Geminid Balkan Freet...</td>\n",
       "      <td>3.4676</td>\n",
       "      <td>9913</td>\n",
       "      <td>3</td>\n",
       "      <td>Latinate Duluth Rutland</td>\n",
       "      <td>3</td>\n",
       "      <td>22414</td>\n",
       "      <td>[[-0.959526002407074, -2.693593740463257, 0.98...</td>\n",
       "      <td>6339</td>\n",
       "      <td>sum</td>\n",
       "    </tr>\n",
       "    <tr>\n",
       "      <th>835</th>\n",
       "      <td>6958</td>\n",
       "      <td>True</td>\n",
       "      <td>[[0.0, 1.0, 1.0, 1.0, 14.0, 0.0, 13.0, 15.0, 5...</td>\n",
       "      <td>380</td>\n",
       "      <td>5659</td>\n",
       "      <td>n: 14, c: 0.707</td>\n",
       "      <td>[Lucifer Pluto Birmingham, Schmitt Homeric Mil...</td>\n",
       "      <td>3.3615</td>\n",
       "      <td>10162</td>\n",
       "      <td>5</td>\n",
       "      <td>Conrad Chrysler Penrose</td>\n",
       "      <td>0</td>\n",
       "      <td>23518</td>\n",
       "      <td>[[-0.6423532366752625, 0.3680410087108612, 0.2...</td>\n",
       "      <td>6319</td>\n",
       "      <td>sum</td>\n",
       "    </tr>\n",
       "    <tr>\n",
       "      <th>821</th>\n",
       "      <td>6956</td>\n",
       "      <td>True</td>\n",
       "      <td>[[0.0, 1.0, 1.0, 1.0, 5.0, 0.0, 13.0, 15.0, 5....</td>\n",
       "      <td>380</td>\n",
       "      <td>5689</td>\n",
       "      <td>n: 14, c: 0.707</td>\n",
       "      <td>[Habib Saskatchewan Jupiter, Latinate Duluth R...</td>\n",
       "      <td>3.6744</td>\n",
       "      <td>9706</td>\n",
       "      <td>5</td>\n",
       "      <td>Malthusian Burma Aubrey</td>\n",
       "      <td>0</td>\n",
       "      <td>20982</td>\n",
       "      <td>[[1.4782226085662842, -2.237123966217041, -0.3...</td>\n",
       "      <td>6354</td>\n",
       "      <td>sum</td>\n",
       "    </tr>\n",
       "    <tr>\n",
       "      <th>5</th>\n",
       "      <td>6953</td>\n",
       "      <td>True</td>\n",
       "      <td>[[0.0, 1.0, 1.0, 1.0, 5.0, 0.0, 13.0, 15.0, 5....</td>\n",
       "      <td>380</td>\n",
       "      <td>5649</td>\n",
       "      <td>n: 14, c: 0.707</td>\n",
       "      <td>[Geminid Balkan Freetown, Farmington Bernadine...</td>\n",
       "      <td>3.4550</td>\n",
       "      <td>9912</td>\n",
       "      <td>2</td>\n",
       "      <td>Interpol Chen Buddhism</td>\n",
       "      <td>2</td>\n",
       "      <td>22414</td>\n",
       "      <td>[[-0.6330905556678772, -2.8641581535339355, 1....</td>\n",
       "      <td>6324</td>\n",
       "      <td>sum</td>\n",
       "    </tr>\n",
       "  </tbody>\n",
       "</table>\n",
       "</div>"
      ],
      "text/plain": [
       "     acc_pred  adult                                               cell  \\\n",
       "836      7078   True  [[0.0, 1.0, 8.0, 1.0, 0.0, 0.0, 13.0, 15.0, 5....   \n",
       "0        7033   True  [[0.0, 1.0, 1.0, 1.0, 0.0, 0.0, 13.0, 15.0, 0....   \n",
       "1        6996   True  [[0.0, 1.0, 1.0, 1.0, 14.0, 0.0, 13.0, 15.0, 5...   \n",
       "2        6986   True  [[0.0, 1.0, 1.0, 1.0, 5.0, 0.0, 13.0, 15.0, 5....   \n",
       "3        6970   True  [[0.0, 5.0, 1.0, 5.0, 0.0, 0.0, 1.0, 0.0, 0.0,...   \n",
       "846      6964   True  [[0.0, 1.0, 14.0, 1.0, 0.0, 0.0, 13.0, 15.0, 5...   \n",
       "4        6961   True  [[0.0, 1.0, 1.0, 1.0, 5.0, 0.0, 13.0, 15.0, 5....   \n",
       "835      6958   True  [[0.0, 1.0, 1.0, 1.0, 14.0, 0.0, 13.0, 15.0, 5...   \n",
       "821      6956   True  [[0.0, 1.0, 1.0, 1.0, 5.0, 0.0, 13.0, 15.0, 5....   \n",
       "5        6953   True  [[0.0, 1.0, 1.0, 1.0, 5.0, 0.0, 13.0, 15.0, 5....   \n",
       "\n",
       "     confidence  correct         genotype  \\\n",
       "836         380     5783  n: 14, c: 0.707   \n",
       "0           380     5748  n: 14, c: 0.707   \n",
       "1           380     5700  n: 14, c: 0.707   \n",
       "2           380     5681  n: 14, c: 0.707   \n",
       "3           380     5566  n: 14, c: 0.688   \n",
       "846         380     5662  n: 14, c: 0.707   \n",
       "4           380     5659  n: 14, c: 0.707   \n",
       "835         380     5659  n: 14, c: 0.707   \n",
       "821         380     5689  n: 14, c: 0.707   \n",
       "5           380     5649  n: 14, c: 0.707   \n",
       "\n",
       "                                               lineage    loss  macro_pred  \\\n",
       "836  [Lipton Athena Clive, McLeod Raoul Hoffman, Ag...  3.5746        9948   \n",
       "0    [Hindi Sammy Juanita, Geminid Balkan Freetown,...  3.7149        9835   \n",
       "1    [Schmitt Homeric Miltonic, Ariadne Purdue Monr...  3.5299        9946   \n",
       "2    [Latinate Duluth Rutland, Ariadne Purdue Monro...  3.7151       10030   \n",
       "3                            [Fischer Paulson Kerouac]  3.6633       11045   \n",
       "846  [Lipton Athena Clive, McLeod Raoul Hoffman, Ag...  3.5513        9926   \n",
       "4    [Ariadne Purdue Monrovia, Geminid Balkan Freet...  3.4676        9913   \n",
       "835  [Lucifer Pluto Birmingham, Schmitt Homeric Mil...  3.3615       10162   \n",
       "821  [Habib Saskatchewan Jupiter, Latinate Duluth R...  3.6744        9706   \n",
       "5    [Geminid Balkan Freetown, Farmington Bernadine...  3.4550        9912   \n",
       "\n",
       "     mutations                           name  offspring  params  \\\n",
       "836          5  Churchill Mesopotamia Hurwitz          0   22510   \n",
       "0            3       McCormick Minsky Antaeus          3   21910   \n",
       "1            4       Lucifer Pluto Birmingham          4   22506   \n",
       "2            4   McNaughton Nostrand Barnhard          0   23054   \n",
       "3            1            Igor Franz Maryland          4   28574   \n",
       "846          5         Fogarty Labrador Olsen          0   22614   \n",
       "4            3        Latinate Duluth Rutland          3   22414   \n",
       "835          5        Conrad Chrysler Penrose          0   23518   \n",
       "821          5        Malthusian Burma Aubrey          0   20982   \n",
       "5            2         Interpol Chen Buddhism          2   22414   \n",
       "\n",
       "                                                 preds  top_n_corrects type  \n",
       "836  [[0.975654661655426, 0.059765931218862534, 0.6...            5783  sum  \n",
       "0    [[-0.10546603053808212, -2.682469606399536, 1....            6054  sum  \n",
       "1    [[-0.1727834939956665, -2.552724838256836, 2.1...            6147  sum  \n",
       "2    [[-0.046615831553936005, -1.0343507528305054, ...            6183  sum  \n",
       "3    [[-0.9154147505760193, -2.4322259426116943, 0....            6262  sum  \n",
       "846  [[-1.2526894807815552, -1.125349521636963, 0.0...            6287  sum  \n",
       "4    [[-0.959526002407074, -2.693593740463257, 0.98...            6339  sum  \n",
       "835  [[-0.6423532366752625, 0.3680410087108612, 0.2...            6319  sum  \n",
       "821  [[1.4782226085662842, -2.237123966217041, -0.3...            6354  sum  \n",
       "5    [[-0.6330905556678772, -2.8641581535339355, 1....            6324  sum  "
      ]
     },
     "execution_count": 12,
     "metadata": {},
     "output_type": "execute_result"
    }
   ],
   "source": [
    "pool = pd.read_pickle(\"generations/generation_3.pkl\")\n",
    "pool.iloc[:10]"
   ]
  },
  {
   "cell_type": "code",
   "execution_count": 37,
   "metadata": {},
   "outputs": [
    {
     "name": "stdout",
     "output_type": "stream",
     "text": [
      "\n",
      "== micro ==\n",
      "Validating model...[SUCCESS]\n",
      "Estimated Timelines:\n",
      "\t1 epoch   : 43.21 s\n",
      "\t64 epochs : 46 min, 5 s\n",
      "\t128 epochs: 1 hrs, 32 mins, 11 s\n",
      "\t512 epochs: 6 hrs, 8 mins, 44 s\n",
      "Number of parameters: 59,378\n"
     ]
    },
    {
     "ename": "KeyboardInterrupt",
     "evalue": "",
     "output_type": "error",
     "traceback": [
      "\u001b[0;31m---------------------------------------------------------------------------\u001b[0m",
      "\u001b[0;31mKeyboardInterrupt\u001b[0m                         Traceback (most recent call last)",
      "\u001b[0;32m~/Documents/Programming/Python/graph2net/graph2net/trainers.py\u001b[0m in \u001b[0;36mfull_model_run\u001b[0;34m(model, **kwargs)\u001b[0m\n\u001b[1;32m    274\u001b[0m                   \u001b[0mlogger\u001b[0m\u001b[0;34m=\u001b[0m\u001b[0mlogger\u001b[0m\u001b[0;34m,\u001b[0m\u001b[0;34m\u001b[0m\u001b[0;34m\u001b[0m\u001b[0m\n\u001b[0;32m--> 275\u001b[0;31m                   verbose=kwargs.get('verbose', False))\n\u001b[0m\u001b[1;32m    276\u001b[0m             \u001b[0mepoch_times\u001b[0m\u001b[0;34m.\u001b[0m\u001b[0mappend\u001b[0m\u001b[0;34m(\u001b[0m\u001b[0mtime\u001b[0m\u001b[0;34m(\u001b[0m\u001b[0;34m)\u001b[0m \u001b[0;34m-\u001b[0m \u001b[0mt_start\u001b[0m\u001b[0;34m)\u001b[0m\u001b[0;34m\u001b[0m\u001b[0;34m\u001b[0m\u001b[0m\n",
      "\u001b[0;32m~/Documents/Programming/Python/graph2net/graph2net/trainers.py\u001b[0m in \u001b[0;36mtrain\u001b[0;34m(model, device, train_loader, **kwargs)\u001b[0m\n\u001b[1;32m     82\u001b[0m         \u001b[0mloss\u001b[0m \u001b[0;34m=\u001b[0m \u001b[0mkwargs\u001b[0m\u001b[0;34m[\u001b[0m\u001b[0;34m'criterion'\u001b[0m\u001b[0;34m]\u001b[0m\u001b[0;34m(\u001b[0m\u001b[0moutput\u001b[0m\u001b[0;34m,\u001b[0m \u001b[0mtarget\u001b[0m\u001b[0;34m)\u001b[0m\u001b[0;34m\u001b[0m\u001b[0;34m\u001b[0m\u001b[0m\n\u001b[0;32m---> 83\u001b[0;31m         \u001b[0mloss\u001b[0m\u001b[0;34m.\u001b[0m\u001b[0mbackward\u001b[0m\u001b[0;34m(\u001b[0m\u001b[0;34m)\u001b[0m\u001b[0;34m\u001b[0m\u001b[0;34m\u001b[0m\u001b[0m\n\u001b[0m\u001b[1;32m     84\u001b[0m         \u001b[0mkwargs\u001b[0m\u001b[0;34m[\u001b[0m\u001b[0;34m'optimizer'\u001b[0m\u001b[0;34m]\u001b[0m\u001b[0;34m.\u001b[0m\u001b[0mstep\u001b[0m\u001b[0;34m(\u001b[0m\u001b[0;34m)\u001b[0m\u001b[0;34m\u001b[0m\u001b[0;34m\u001b[0m\u001b[0m\n",
      "\u001b[0;32m~/.local/lib/python3.6/site-packages/torch/tensor.py\u001b[0m in \u001b[0;36mbackward\u001b[0;34m(self, gradient, retain_graph, create_graph)\u001b[0m\n\u001b[1;32m     92\u001b[0m         \"\"\"\n\u001b[0;32m---> 93\u001b[0;31m         \u001b[0mtorch\u001b[0m\u001b[0;34m.\u001b[0m\u001b[0mautograd\u001b[0m\u001b[0;34m.\u001b[0m\u001b[0mbackward\u001b[0m\u001b[0;34m(\u001b[0m\u001b[0mself\u001b[0m\u001b[0;34m,\u001b[0m \u001b[0mgradient\u001b[0m\u001b[0;34m,\u001b[0m \u001b[0mretain_graph\u001b[0m\u001b[0;34m,\u001b[0m \u001b[0mcreate_graph\u001b[0m\u001b[0;34m)\u001b[0m\u001b[0;34m\u001b[0m\u001b[0;34m\u001b[0m\u001b[0m\n\u001b[0m\u001b[1;32m     94\u001b[0m \u001b[0;34m\u001b[0m\u001b[0m\n",
      "\u001b[0;32m~/.local/lib/python3.6/site-packages/torch/autograd/__init__.py\u001b[0m in \u001b[0;36mbackward\u001b[0;34m(tensors, grad_tensors, retain_graph, create_graph, grad_variables)\u001b[0m\n\u001b[1;32m     89\u001b[0m         \u001b[0mtensors\u001b[0m\u001b[0;34m,\u001b[0m \u001b[0mgrad_tensors\u001b[0m\u001b[0;34m,\u001b[0m \u001b[0mretain_graph\u001b[0m\u001b[0;34m,\u001b[0m \u001b[0mcreate_graph\u001b[0m\u001b[0;34m,\u001b[0m\u001b[0;34m\u001b[0m\u001b[0;34m\u001b[0m\u001b[0m\n\u001b[0;32m---> 90\u001b[0;31m         allow_unreachable=True)  # allow_unreachable flag\n\u001b[0m\u001b[1;32m     91\u001b[0m \u001b[0;34m\u001b[0m\u001b[0m\n",
      "\u001b[0;31mKeyboardInterrupt\u001b[0m: ",
      "\nDuring handling of the above exception, another exception occurred:\n",
      "\u001b[0;31mKeyboardInterrupt\u001b[0m                         Traceback (most recent call last)",
      "\u001b[0;32m<ipython-input-37-7a31870db3af>\u001b[0m in \u001b[0;36m<module>\u001b[0;34m\u001b[0m\n\u001b[1;32m     55\u001b[0m \u001b[0mfull_run_scores\u001b[0m \u001b[0;34m=\u001b[0m \u001b[0;34m[\u001b[0m\u001b[0;34m]\u001b[0m\u001b[0;34m\u001b[0m\u001b[0;34m\u001b[0m\u001b[0m\n\u001b[1;32m     56\u001b[0m \u001b[0;32mfor\u001b[0m \u001b[0midx\u001b[0m\u001b[0;34m,\u001b[0m\u001b[0mpetri_cell\u001b[0m \u001b[0;32min\u001b[0m \u001b[0mpool\u001b[0m\u001b[0;34m.\u001b[0m\u001b[0miloc\u001b[0m\u001b[0;34m[\u001b[0m\u001b[0;34m:\u001b[0m\u001b[0;36m10\u001b[0m\u001b[0;34m]\u001b[0m\u001b[0;34m.\u001b[0m\u001b[0miterrows\u001b[0m\u001b[0;34m(\u001b[0m\u001b[0;34m)\u001b[0m\u001b[0;34m:\u001b[0m\u001b[0;34m\u001b[0m\u001b[0;34m\u001b[0m\u001b[0m\n\u001b[0;32m---> 57\u001b[0;31m     \u001b[0mfull_run_score\u001b[0m\u001b[0;34m,\u001b[0m\u001b[0mrun_time\u001b[0m \u001b[0;34m=\u001b[0m \u001b[0mmicro_net\u001b[0m\u001b[0;34m(\u001b[0m\u001b[0mpetri_cell\u001b[0m\u001b[0;34m[\u001b[0m\u001b[0;34m'cell'\u001b[0m\u001b[0;34m]\u001b[0m\u001b[0;34m)\u001b[0m\u001b[0;34m\u001b[0m\u001b[0;34m\u001b[0m\u001b[0m\n\u001b[0m\u001b[1;32m     58\u001b[0m     \u001b[0mfull_run_scores\u001b[0m\u001b[0;34m.\u001b[0m\u001b[0mappend\u001b[0m\u001b[0;34m(\u001b[0m\u001b[0mfull_run_score\u001b[0m\u001b[0;34m)\u001b[0m\u001b[0;34m\u001b[0m\u001b[0;34m\u001b[0m\u001b[0m\n",
      "\u001b[0;32m<ipython-input-37-7a31870db3af>\u001b[0m in \u001b[0;36mmicro_net\u001b[0;34m(cell, verbose)\u001b[0m\n\u001b[1;32m     24\u001b[0m                                                   \u001b[0mtrack_progress\u001b[0m\u001b[0;34m=\u001b[0m\u001b[0;32mTrue\u001b[0m\u001b[0;34m,\u001b[0m\u001b[0;34m\u001b[0m\u001b[0;34m\u001b[0m\u001b[0m\n\u001b[1;32m     25\u001b[0m                                                   \u001b[0mprefix\u001b[0m\u001b[0;34m=\u001b[0m\u001b[0;34m\"Micro\"\u001b[0m\u001b[0;34m,\u001b[0m\u001b[0;34m\u001b[0m\u001b[0;34m\u001b[0m\u001b[0m\n\u001b[0;32m---> 26\u001b[0;31m                                                   verbose=False)\n\u001b[0m\u001b[1;32m     27\u001b[0m     \u001b[0;32mreturn\u001b[0m \u001b[0mcorrect\u001b[0m\u001b[0;34m,\u001b[0m\u001b[0mtime\u001b[0m\u001b[0;34m.\u001b[0m\u001b[0mtime\u001b[0m\u001b[0;34m(\u001b[0m\u001b[0;34m)\u001b[0m\u001b[0;34m-\u001b[0m\u001b[0mt_start\u001b[0m\u001b[0;34m\u001b[0m\u001b[0;34m\u001b[0m\u001b[0m\n\u001b[1;32m     28\u001b[0m \u001b[0;34m\u001b[0m\u001b[0m\n",
      "\u001b[0;32m~/Documents/Programming/Python/graph2net/graph2net/trainers.py\u001b[0m in \u001b[0;36mfull_model_run\u001b[0;34m(model, **kwargs)\u001b[0m\n\u001b[1;32m    360\u001b[0m         \u001b[0;32mif\u001b[0m \u001b[0mkwargs\u001b[0m\u001b[0;34m.\u001b[0m\u001b[0mget\u001b[0m\u001b[0;34m(\u001b[0m\u001b[0;34m'verbose'\u001b[0m\u001b[0;34m,\u001b[0m \u001b[0;32mFalse\u001b[0m\u001b[0;34m)\u001b[0m\u001b[0;34m:\u001b[0m\u001b[0;34m\u001b[0m\u001b[0;34m\u001b[0m\u001b[0m\n\u001b[1;32m    361\u001b[0m             \u001b[0mprint\u001b[0m\u001b[0;34m(\u001b[0m\u001b[0;34m\"Terminating early...\"\u001b[0m\u001b[0;34m)\u001b[0m\u001b[0;34m\u001b[0m\u001b[0;34m\u001b[0m\u001b[0m\n\u001b[0;32m--> 362\u001b[0;31m         \u001b[0;32mraise\u001b[0m \u001b[0mKeyboardInterrupt\u001b[0m\u001b[0;34m\u001b[0m\u001b[0;34m\u001b[0m\u001b[0m\n\u001b[0m\u001b[1;32m    363\u001b[0m     \u001b[0;32mexcept\u001b[0m \u001b[0mException\u001b[0m \u001b[0;32mas\u001b[0m \u001b[0me\u001b[0m\u001b[0;34m:\u001b[0m\u001b[0;34m\u001b[0m\u001b[0;34m\u001b[0m\u001b[0m\n\u001b[1;32m    364\u001b[0m         \u001b[0;32mraise\u001b[0m \u001b[0me\u001b[0m\u001b[0;34m\u001b[0m\u001b[0;34m\u001b[0m\u001b[0m\n",
      "\u001b[0;31mKeyboardInterrupt\u001b[0m: "
     ]
    }
   ],
   "source": [
    "lr_schedule512 = {\n",
    "    'type': 'cosine',\n",
    "    'lr_min': .00001,\n",
    "    'lr_max': .01,\n",
    "    't_0': 1,\n",
    "    't_mult': 2\n",
    "}\n",
    "\n",
    "def micro_net(cell,verbose=False):\n",
    "    print(\"\\n== micro ==\")\n",
    "    t_start = time.time()\n",
    "    model = gen_and_validate([cell],data,scale=3,cell_types=[1,1])\n",
    "    if verbose:\n",
    "        print(model)\n",
    "    loss, correct, preds,acc_preds,confs  = full_model_run(model,\n",
    "                                                  data=data,\n",
    "                                                  epochs=8,\n",
    "                                                  lr=.01,\n",
    "                                                  momentum=.9,\n",
    "                                                  weight_decay=1e-4,\n",
    "                                                  lr_schedule=lr_schedule512,\n",
    "                                                  drop_path=False,\n",
    "                                                  log=True,\n",
    "                                                  track_progress=True,\n",
    "                                                  prefix=\"Micro\",\n",
    "                                                  verbose=False)\n",
    "    return correct,time.time()-t_start\n",
    "\n",
    "def macro_net(cell,verbose=False):\n",
    "    print(\"== macro ==\")\n",
    "    t_start = time.time()\n",
    "    model = gen_and_validate([cell],data,scale=3,cell_types=[1,0,0,1,0,0,1,0,0,1,0,0,1])\n",
    "    if not model:\n",
    "        return np.zeros(512),0\n",
    "    else:\n",
    "        try:\n",
    "            loss, correct, preds,acc_preds,confs = full_model_run(model,\n",
    "                                                      data=data,\n",
    "                                                      epochs=512,\n",
    "                                                      lr=.01,\n",
    "                                                      momentum=.9,\n",
    "                                                      weight_decay=1e-4,\n",
    "                                                      lr_schedule=lr_schedule512,\n",
    "                                                      drop_path=True,\n",
    "                                                      log=True,\n",
    "                                                      track_progress=True,\n",
    "                                                      prefix=\"Macro\",\n",
    "                                                      verbose=verbose)\n",
    "        except MemoryError as e:\n",
    "            print(\"\\n{}\".format(e))\n",
    "            return np.zeros(512),0\n",
    "    \n",
    "        return correct,time.time()-t_start\n",
    "\n",
    "full_run_scores = []\n",
    "for idx,petri_cell in pool.iloc[:10].iterrows():\n",
    "    full_run_score,run_time = micro_net(petri_cell['cell'])\n",
    "    full_run_scores.append(full_run_score)"
   ]
  },
  {
   "cell_type": "code",
   "execution_count": 31,
   "metadata": {},
   "outputs": [],
   "source": [
    "maxes = [(i,max(x)) for (i,x) in enumerate(full_run_scores)]\n",
    "maxes.sort(key=lambda x: x[1],reverse=True)\n",
    "maxes\n",
    "best_cell = pool.iloc[:10].iloc[maxes[0][0]]['cell']"
   ]
  },
  {
   "cell_type": "code",
   "execution_count": null,
   "metadata": {},
   "outputs": [
    {
     "name": "stdout",
     "output_type": "stream",
     "text": [
      "== macro ==\n",
      "Validating model...[SUCCESS]\n",
      "Estimated Timelines:\n",
      "\t1 epoch   : 3 min, 11 s\n",
      "\t64 epochs : 3 hrs, 23 mins, 53 s\n",
      "\t128 epochs: 6 hrs, 47 mins, 47 s\n",
      "\t512 epochs: 27 hrs, 11 mins, 8 s\n",
      "Number of parameters: 3,347,554\n",
      "Macro 325/512: 84.79%, Predicted: 8904 (±  92))\r"
     ]
    }
   ],
   "source": [
    "torch.cuda.empty_cache()\n",
    "macro_net(best_cell)"
   ]
  },
  {
   "cell_type": "code",
   "execution_count": 44,
   "metadata": {},
   "outputs": [
    {
     "data": {
      "text/plain": [
       "[<matplotlib.lines.Line2D at 0x7f61a061ab38>]"
      ]
     },
     "execution_count": 44,
     "metadata": {},
     "output_type": "execute_result"
    },
    {
     "data": {
      "image/png": "[encoded data removed]",
      "text/plain": [
       "<Figure size 432x288 with 1 Axes>"
      ]
     },
     "metadata": {
      "needs_background": "light"
     },
     "output_type": "display_data"
    }
   ],
   "source": [
    "plt.plot(range(len(pool)),pool['acc_pred'],\".\")"
   ]
  },
  {
   "cell_type": "code",
   "execution_count": null,
   "metadata": {},
   "outputs": [],
   "source": []
  },
  {
   "cell_type": "code",
   "execution_count": null,
   "metadata": {},
   "outputs": [],
   "source": []
  }
 ],
 "metadata": {
  "kernelspec": {
   "display_name": "Python 3",
   "language": "python",
   "name": "python3"
  },
  "language_info": {
   "codemirror_mode": {
    "name": "ipython",
    "version": 3
   },
   "file_extension": ".py",
   "mimetype": "text/x-python",
   "name": "python",
   "nbconvert_exporter": "python",
   "pygments_lexer": "ipython3",
   "version": "3.6.7"
  },
  "toc": {
   "base_numbering": 1,
   "nav_menu": {},
   "number_sections": true,
   "sideBar": true,
   "skip_h1_title": false,
   "title_cell": "Table of Contents",
   "title_sidebar": "Contents",
   "toc_cell": false,
   "toc_position": {},
   "toc_section_display": true,
   "toc_window_display": false
  },
  "varInspector": {
   "cols": {
    "lenName": 16,
    "lenType": 16,
    "lenVar": 40
   },
   "kernels_config": {
    "python": {
     "delete_cmd_postfix": "",
     "delete_cmd_prefix": "del ",
     "library": "var_list.py",
     "varRefreshCmd": "print(var_dic_list())"
    },
    "r": {
     "delete_cmd_postfix": ") ",
     "delete_cmd_prefix": "rm(",
     "library": "var_list.r",
     "varRefreshCmd": "cat(var_dic_list()) "
    }
   },
   "types_to_exclude": [
    "module",
    "function",
    "builtin_function_or_method",
    "instance",
    "_Feature"
   ],
   "window_display": false
  }
 },
 "nbformat": 4,
 "nbformat_minor": 2
}
