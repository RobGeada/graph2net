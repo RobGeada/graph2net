{
 "cells": [
  {
   "cell_type": "code",
   "execution_count": 1,
   "metadata": {},
   "outputs": [],
   "source": [
    "from graph2net.trainers import max_model_size\n",
    "from graph2net.data_loaders import *\n",
    "from graph2net.helpers import clean\n",
    "import numpy as np\n",
    "\n",
    "%load_ext autoreload\n",
    "%autoreload 2"
   ]
  },
  {
   "cell_type": "code",
   "execution_count": 2,
   "metadata": {},
   "outputs": [],
   "source": [
    "data = load_data(batch_size=256)"
   ]
  },
  {
   "cell_type": "code",
   "execution_count": 3,
   "metadata": {},
   "outputs": [
    {
     "name": "stdout",
     "output_type": "stream",
     "text": [
      "\n",
      "Cleaning up at None...\n",
      "Pre: 0.00B\n",
      "Post: 0.00B\n"
     ]
    }
   ],
   "source": [
    "clean(None,None)\n",
    "cell = np.array([[0, 1, 0, 1],\n",
    "                 [1, 0, 9, 0],\n",
    "                 [0, 0, 0, 1],\n",
    "                 [1, 0, 0, 1]])"
   ]
  },
  {
   "cell_type": "code",
   "execution_count": null,
   "metadata": {
    "scrolled": false
   },
   "outputs": [
    {
     "name": "stdout",
     "output_type": "stream",
     "text": [
      "===================================\n",
      "===================================\n",
      "===================================\n",
      "\n",
      "Cleaning up at loop init...\n",
      "Pre: 0.00B\n",
      "Post: 0.00B\n",
      "=====VALIDATING 8,2======\n"
     ]
    }
   ],
   "source": [
    "while 1:\n",
    "    print(\"===================================\")\n",
    "    print(\"===================================\")\n",
    "    print(\"===================================\")\n",
    "    clean(None,'loop init')\n",
    "    max_model_size(cell,data,auxiliaries=[2,3,4])\n",
    "    clean(None,'loop end')"
   ]
  },
  {
   "cell_type": "code",
   "execution_count": null,
   "metadata": {},
   "outputs": [],
   "source": []
  }
 ],
 "metadata": {
  "kernelspec": {
   "display_name": "Python 3",
   "language": "python",
   "name": "python3"
  },
  "language_info": {
   "codemirror_mode": {
    "name": "ipython",
    "version": 3
   },
   "file_extension": ".py",
   "mimetype": "text/x-python",
   "name": "python",
   "nbconvert_exporter": "python",
   "pygments_lexer": "ipython3",
   "version": "3.6.7"
  },
  "toc": {
   "base_numbering": 1,
   "nav_menu": {},
   "number_sections": true,
   "sideBar": true,
   "skip_h1_title": false,
   "title_cell": "Table of Contents",
   "title_sidebar": "Contents",
   "toc_cell": false,
   "toc_position": {},
   "toc_section_display": true,
   "toc_window_display": false
  }
 },
 "nbformat": 4,
 "nbformat_minor": 2
}
