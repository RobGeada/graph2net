{
 "cells": [
  {
   "cell_type": "code",
   "execution_count": 5,
   "metadata": {},
   "outputs": [
    {
     "data": {
      "text/html": [
       "<style>.container { width:100% !important; }</style>"
      ],
      "text/plain": [
       "<IPython.core.display.HTML object>"
      ]
     },
     "metadata": {},
     "output_type": "display_data"
    }
   ],
   "source": [
    "import itertools\n",
    "import pandas as pd\n",
    "from sklearn import linear_model\n",
    "import numpy as np\n",
    "import matplotlib.pyplot as plt\n",
    "\n",
    "from graph2net.trainers import gen_and_validate,generate,model_validate,full_model_run\n",
    "from graph2net.data_loaders import *\n",
    "from graph2net.graph_generators import *\n",
    "from graph2net.helpers import max_model_size\n",
    "import torch\n",
    "\n",
    "import functools\n",
    "\n",
    "from scipy.stats import spearmanr, pearsonr, rankdata\n",
    "from sklearn import linear_model\n",
    "from sklearn.metrics import mean_squared_error as mse\n",
    "from sklearn.model_selection import train_test_split\n",
    "import time\n",
    "\n",
    "from IPython.core.display import display, HTML\n",
    "display(HTML(\"<style>.container { width:100% !important; }</style>\"))\n",
    "\n",
    "np.set_printoptions(linewidth=150)\n",
    "pd.set_option('display.max_columns', 500)\n",
    "\n",
    "%load_ext autoreload\n",
    "%autoreload 2"
   ]
  },
  {
   "cell_type": "code",
   "execution_count": 6,
   "metadata": {},
   "outputs": [],
   "source": [
    "data = load_data(batch_size=256)"
   ]
  },
  {
   "cell_type": "code",
   "execution_count": 9,
   "metadata": {
    "scrolled": true
   },
   "outputs": [
    {
     "name": "stdout",
     "output_type": "stream",
     "text": [
      "Test 0   ==========\n",
      "Test 1   ==========\n",
      "Test 2   ==========\n",
      "Test 3   ==========\n",
      "Test 4   ==========\n",
      "Test 5   ==========\n",
      "Test 6   ==========\n",
      "Test 7   ==========\n",
      "Test 8   ==========\n",
      "Test 9   ==========\n",
      "6.922346067428589\n"
     ]
    }
   ],
   "source": [
    "results = []\n",
    "ts = []\n",
    "configs = []\n",
    "for test in range(10):\n",
    "    t_start = time.time()\n",
    "    print(\"Test {:<3} ==========\".format(test))\n",
    "    nodes = np.random.randint(3,10)\n",
    "    connectivity = np.random.uniform(.3,.7)\n",
    "    cell = gen_cell(nodes,connectivity,concat=.5)\n",
    "    configs.append(max_model_size(cell,data))\n",
    "    ts.append(time.time()-t_start)\n",
    "    \n",
    "print(np.mean(ts))"
   ]
  },
  {
   "cell_type": "code",
   "execution_count": 10,
   "metadata": {
    "scrolled": true
   },
   "outputs": [
    {
     "data": {
      "text/plain": [
       "[[5, 3, True, 51825098],\n",
       " [5, 5, False, 14531914],\n",
       " [6, 5, False, 1406986],\n",
       " [5, 4, False, 19962506],\n",
       " [5, 5, False, 12997066],\n",
       " [5, 2, True, 23967818],\n",
       " [6, 5, False, 6890058],\n",
       " [6, 4, True, 12007818],\n",
       " [6, 5, False, 20245770],\n",
       " [5, 2, False, 16494410]]"
      ]
     },
     "execution_count": 10,
     "metadata": {},
     "output_type": "execute_result"
    }
   ],
   "source": [
    "configs"
   ]
  },
  {
   "cell_type": "code",
   "execution_count": null,
   "metadata": {},
   "outputs": [],
   "source": [
    "result_df = pd.DataFrame(results)\n",
    "result_df\n",
    "#valids = result_df[result_df['valid']]\n",
    "#idx = valids.groupby(['test'])['params'].transform(max)==valids['params']\n",
    "#valids[idx]"
   ]
  },
  {
   "cell_type": "code",
   "execution_count": null,
   "metadata": {
    "scrolled": true
   },
   "outputs": [],
   "source": [
    "result_df = pd.DataFrame(results)\n",
    "list(result_df)\n",
    "\n",
    "micros = result_df[(result_df['reductions']==2) & (result_df['spacing']==0) & (result_df['scale']==2)]\n",
    "micro_params = dict([(row['test'],row['params']) for (idx,row) in micros.iterrows()])\n",
    "result_df['micro_params']=result_df['test'].apply(lambda x: micro_params[x])\n",
    "result_df['param_scale']=result_df['params']/result_df['micro_params']\n",
    "result_df['reduction_spacing']=result_df['reductions']+result_df['reductions']*result_df['spacing']\n",
    "result_df"
   ]
  },
  {
   "cell_type": "code",
   "execution_count": null,
   "metadata": {},
   "outputs": [],
   "source": [
    "def plot_fixed_pair(tests,x):\n",
    "    plt.figure(figsize=(60,30))\n",
    "    \n",
    "    ranges = [list(test_vars[test]) for test in tests]\n",
    "    products = itertools.product(*ranges)\n",
    "    for i,product in enumerate(products):\n",
    "\n",
    "        conditions = [result_df[tests[i]]==product[i] for i in range(len(tests))]\n",
    "        print([(tests[i],product[i]) for i in range(len(tests))])\n",
    "        \n",
    "        condition = functools.reduce(lambda x,y: x&y, conditions)\n",
    "        example = result_df[condition]\n",
    "        if len(example):\n",
    "            for run in range(100):\n",
    "                plt.plot(example[x],example['param_scale'])\n",
    "        plt.show()\n",
    "\n",
    "\n",
    "runs = [result_df[result_df['test']==i] for i in result_df['test'].unique()]\n",
    "test_vars = {'scale':range(2,6),\n",
    "             'reduction_spacing':range(2,20)}\n",
    "\n",
    "for element in itertools.combinations(test_vars.keys(),r=len(test_vars.keys())-1):\n",
    "    x_axis = [x for x in test_vars.keys() if x not in element][0]\n",
    "    plot_fixed_pair(element,x_axis)"
   ]
  },
  {
   "cell_type": "code",
   "execution_count": null,
   "metadata": {},
   "outputs": [],
   "source": [
    "result_df['scale_mod']=result_df['scale']\n",
    "result_df['reductions_mod']=result_df['reductions']\n",
    "result_df['spacing_mod']=np.e**result_df['spacing']\n",
    "\n",
    "result_df['y_mod']=np.log(result_df['param_scale'])\n",
    "selector = ['scale_mod','reductions_mod','spacing_mod','micro_params','nodes']\n",
    "\n",
    "train,test = train_test_split(result_df,test_size=.25)     \n",
    "train_X,test_X = train[selector],test[selector]\n",
    "train_Y,test_Y = train['y_mod'],test['y_mod']\n",
    "train_act_Y, test_act_Y = train['param_scale'],test['param_scale']\n",
    "\n",
    "regr = linear_model.LinearRegression()\n",
    "regr.fit(train_X,train_Y)\n",
    "\n",
    "\n",
    "x_func = np.e**(regr.intercept_+np.dot(train_X,regr.coef_))\n",
    "pred   = np.e**(regr.intercept_+np.dot(test_X,regr.coef_))\n",
    "c95  = np.std(test_act_Y-pred)*1.96\n",
    "func ={'b':regr.intercept_,'m':regr.coef_,'95':c95,'coef_names':selector}\n",
    "pearson = pearsonr(x_func,train_act_Y)\n",
    "\n",
    "print(\"Train/Test:\",len(train),len(test))\n",
    "print('Intercept:', regr.intercept_)\n",
    "print('Coefficients: \\n', *[\"{}: {:.4f}\".format(list(train_X)[i],x) for (i,x) in enumerate(regr.coef_)])\n",
    "plt.subplot(121)\n",
    "plt.plot(pred,test_act_Y,\".\")\n",
    "plt.plot(pred,pred,alpha=.5)\n",
    "plt.plot(pred,pred+c95,alpha=.5)\n",
    "plt.plot(pred,pred-c95,alpha=.5)\n",
    "plt.xlabel(\"Predicted Score\")\n",
    "plt.ylabel(\"Actual Score\")\n",
    "plt.title(\"Test Micro/Macro\")\n",
    "\n",
    "plt.subplot(122)\n",
    "plt.plot(x_func,train_act_Y,\".\")\n",
    "plt.plot(x_func,x_func,alpha=.5)\n",
    "plt.plot(x_func,x_func+c95,alpha=.5)\n",
    "plt.plot(x_func,x_func-c95,alpha=.5)\n",
    "plt.xlabel(\"Predicted Score\")\n",
    "plt.ylabel(\"Actual Score\")\n",
    "plt.title(\"Train Micro/Macro\")\n",
    "plt.tight_layout()\n",
    "\n",
    "plt.show()\n",
    "\n",
    "print(\"Pearson:  {:.2f},p={}\".format(*pearson))\n",
    "print(\"Spearman: {:.2f},p={}\".format(*spearmanr(x_func,train_act_Y)))\n",
    "print(\"95%: ±{:.2f}\".format(c95))"
   ]
  },
  {
   "cell_type": "code",
   "execution_count": null,
   "metadata": {},
   "outputs": [],
   "source": []
  }
 ],
 "metadata": {
  "kernelspec": {
   "display_name": "Python 3",
   "language": "python",
   "name": "python3"
  },
  "language_info": {
   "codemirror_mode": {
    "name": "ipython",
    "version": 3
   },
   "file_extension": ".py",
   "mimetype": "text/x-python",
   "name": "python",
   "nbconvert_exporter": "python",
   "pygments_lexer": "ipython3",
   "version": "3.6.7"
  },
  "toc": {
   "base_numbering": 1,
   "nav_menu": {},
   "number_sections": true,
   "sideBar": true,
   "skip_h1_title": false,
   "title_cell": "Table of Contents",
   "title_sidebar": "Contents",
   "toc_cell": false,
   "toc_position": {},
   "toc_section_display": true,
   "toc_window_display": false
  }
 },
 "nbformat": 4,
 "nbformat_minor": 2
}
