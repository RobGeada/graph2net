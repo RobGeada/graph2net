{
 "cells": [
  {
   "cell_type": "code",
   "execution_count": 1,
   "metadata": {},
   "outputs": [
    {
     "data": {
      "text/html": [
       "<style>.container { width:100% !important; }</style>"
      ],
      "text/plain": [
       "<IPython.core.display.HTML object>"
      ]
     },
     "metadata": {},
     "output_type": "display_data"
    }
   ],
   "source": [
    "from graph2net.trainers import gen_and_validate,generate,model_validate,full_model_run\n",
    "from graph2net.data_loaders import *\n",
    "from graph2net.graph_generators import *\n",
    "from graph2net.archetypes import inception\n",
    "from graph2net.helpers import *\n",
    "from graph2net.notifier import notify_me\n",
    "import logging\n",
    "import numpy as np\n",
    "import pandas as pd\n",
    "import pickle as pkl\n",
    "import time\n",
    "import os\n",
    "import random\n",
    "import matplotlib.pyplot as plt\n",
    "\n",
    "\n",
    "from IPython.core.display import display, HTML\n",
    "display(HTML(\"<style>.container { width:100% !important; }</style>\"))\n",
    "\n",
    "for handler in logging.root.handlers[:]:\n",
    "    logging.root.removeHandler(handler)\n",
    "logging.basicConfig(filename='logs/model_testbed.log', level=logging.INFO)\n",
    "\n",
    "%load_ext autoreload\n",
    "%autoreload 2"
   ]
  },
  {
   "cell_type": "code",
   "execution_count": 2,
   "metadata": {},
   "outputs": [],
   "source": [
    "data = load_data(batch_size=256)"
   ]
  },
  {
   "cell_type": "code",
   "execution_count": 3,
   "metadata": {},
   "outputs": [],
   "source": [
    "lr_schedule512 = {\n",
    "    'type': 'cosine',\n",
    "    'lr_min': .00001,\n",
    "    'lr_max': .001,\n",
    "    't_0': 1,\n",
    "    't_mult': 2\n",
    "}"
   ]
  },
  {
   "cell_type": "markdown",
   "metadata": {},
   "source": [
    "   \n",
    "   \n",
    "   \n",
    "   \n",
    "   \n",
    "   \n",
    "   \n",
    "   \n",
    "   \n",
    "   \n",
    "   "
   ]
  },
  {
   "cell_type": "code",
   "execution_count": 9,
   "metadata": {},
   "outputs": [],
   "source": [
    "def micro_net(cell):\n",
    "    print(\"== micro ==\")\n",
    "    t_start = time.time()\n",
    "    model = gen_and_validate([cell],data,scale=2,cell_types=[1,1])\n",
    "    loss, correct, preds,acc_preds,confs  = full_model_run(model,\n",
    "                                                  data=data,\n",
    "                                                  epochs=8,\n",
    "                                                  lr=.01,\n",
    "                                                  momentum=.9,\n",
    "                                                  weight_decay=1e-4,\n",
    "                                                  lr_schedule=lr_schedule512,\n",
    "                                                  drop_path=False,\n",
    "                                                  log=True,\n",
    "                                                  track_progress=True,\n",
    "                                                  prefix=\"Micro\",\n",
    "                                                  verbose=False)\n",
    "    return correct,time.time()-t_start\n",
    "\n",
    "def macro_net(cell):\n",
    "    print(\"\\n== macro ==\")\n",
    "    t_start = time.time()\n",
    "    if 0:#np.random.rand()>.5:\n",
    "        print(\"Parallel\")\n",
    "        model = gen_and_validate([cell,cell],data,scale=5,cell_types=[1,0,0,1,0,0,1,0,0,1,0,0,1])\n",
    "    else:\n",
    "        print(\"Large-Scale\")\n",
    "        model = gen_and_validate([cell],data,scale=5,cell_types=[1,0,0,1,0,0,1,0,0,1,0,0,1])\n",
    "    if not model:\n",
    "        return np.zeros(512),0\n",
    "    else:\n",
    "        try:\n",
    "            loss, correct, preds,acc_preds,confs = full_model_run(model,\n",
    "                                                      data=data,\n",
    "                                                      epochs=512,\n",
    "                                                      lr=.01,\n",
    "                                                      momentum=.9,\n",
    "                                                      weight_decay=1e-4,\n",
    "                                                      lr_schedule=lr_schedule512,\n",
    "                                                      drop_path=True,\n",
    "                                                      log=True,\n",
    "                                                      track_progress=True,\n",
    "                                                      prefix=\"Macro\",\n",
    "                                                      verbose=False)\n",
    "        except MemoryError as e:\n",
    "            print(\"\\n{}\".format(e))\n",
    "            return np.zeros(512),0\n",
    "    \n",
    "        return correct,time.time()-t_start"
   ]
  },
  {
   "cell_type": "code",
   "execution_count": 16,
   "metadata": {
    "scrolled": true
   },
   "outputs": [
    {
     "name": "stdout",
     "output_type": "stream",
     "text": [
      "\n",
      "===== CELL 0 ===== \n",
      "\n",
      "== macro ==\n",
      "Large-Scale\n",
      "539,530 params\n",
      "Model outside size boundaries, terminating.\n",
      "\n",
      "===== CELL 0 ===== \n",
      "\n",
      "== macro ==\n",
      "Large-Scale\n",
      "1,341,002 params\n",
      "Model outside size boundaries, terminating.\n",
      "\n",
      "===== CELL 0 ===== \n",
      "\n",
      "== macro ==\n",
      "Large-Scale\n",
      "2,299,178 params\n",
      "Model outside size boundaries, terminating.\n",
      "\n",
      "===== CELL 0 ===== \n",
      "\n",
      "== macro ==\n",
      "Large-Scale\n",
      "5,820,938 params\n",
      "Validating model...\n",
      "GPU Memory past safe thresh: 6.88 GB, 1.72 GB/layer at layer 4\n",
      "\n",
      "===== CELL 0 ===== \n",
      "\n",
      "== macro ==\n",
      "Large-Scale\n",
      "9,975,818 params\n",
      "Validating model...\n",
      "GPU Memory past safe thresh: 7.25 GB, 1.45 GB/layer at layer 5\n",
      "\n",
      "===== CELL 0 ===== \n",
      "\n",
      "== macro ==\n",
      "Large-Scale\n",
      "20,511,370 params\n",
      "Validating model...\n",
      "GPU Memory past safe thresh: 4.37 GB, 4.37 GB/layer at layer 1\n",
      "\n",
      "===== CELL 0 ===== \n",
      "\n",
      "== macro ==\n",
      "Large-Scale\n",
      "28,239,178 params\n",
      "Model outside size boundaries, terminating.\n",
      "\n",
      "===== CELL 0 ===== \n",
      "\n",
      "== macro ==\n",
      "Large-Scale\n",
      "17,045,546 params\n",
      "Validating model...\n",
      "GPU Memory past safe thresh: 6.63 GB, 2.21 GB/layer at layer 3\n",
      "\n",
      "===== CELL 0 ===== \n",
      "\n",
      "== macro ==\n",
      "Large-Scale\n",
      "30,509,866 params\n",
      "Model outside size boundaries, terminating.\n",
      "\n",
      "===== CELL 0 ===== \n",
      "\n",
      "== macro ==\n",
      "Large-Scale\n",
      "25,099,466 params\n",
      "Model outside size boundaries, terminating.\n",
      "\n",
      "===== CELL 0 ===== \n",
      "\n",
      "== macro ==\n",
      "Large-Scale\n",
      "359,914 params\n",
      "Model outside size boundaries, terminating.\n",
      "\n",
      "===== CELL 0 ===== \n",
      "\n",
      "== macro ==\n",
      "Large-Scale\n",
      "10,952,074 params\n",
      "Validating model...\n",
      "GPU Memory past safe thresh: 6.89 GB, 1.72 GB/layer at layer 4\n",
      "\n",
      "===== CELL 0 ===== \n"
     ]
    },
    {
     "ename": "KeyboardInterrupt",
     "evalue": "",
     "output_type": "error",
     "traceback": [
      "\u001b[0;31m---------------------------------------------------------------------------\u001b[0m",
      "\u001b[0;31mKeyboardInterrupt\u001b[0m                         Traceback (most recent call last)",
      "\u001b[0;32m<ipython-input-16-fad4f5dbe1e2>\u001b[0m in \u001b[0;36m<module>\u001b[0;34m\u001b[0m\n\u001b[1;32m     16\u001b[0m             \u001b[0mi\u001b[0m\u001b[0;34m+=\u001b[0m\u001b[0;36m1\u001b[0m\u001b[0;34m\u001b[0m\u001b[0;34m\u001b[0m\u001b[0m\n\u001b[1;32m     17\u001b[0m \u001b[0;32mexcept\u001b[0m \u001b[0mKeyboardInterrupt\u001b[0m \u001b[0;32mas\u001b[0m \u001b[0me\u001b[0m\u001b[0;34m:\u001b[0m\u001b[0;34m\u001b[0m\u001b[0;34m\u001b[0m\u001b[0m\n\u001b[0;32m---> 18\u001b[0;31m     \u001b[0;32mraise\u001b[0m \u001b[0me\u001b[0m\u001b[0;34m\u001b[0m\u001b[0;34m\u001b[0m\u001b[0m\n\u001b[0m\u001b[1;32m     19\u001b[0m \u001b[0;32mexcept\u001b[0m \u001b[0mException\u001b[0m \u001b[0;32mas\u001b[0m \u001b[0me\u001b[0m\u001b[0;34m:\u001b[0m\u001b[0;34m\u001b[0m\u001b[0;34m\u001b[0m\u001b[0m\n\u001b[1;32m     20\u001b[0m     \u001b[0mnotify_me\u001b[0m\u001b[0;34m(\u001b[0m\u001b[0;34m\"Micro/Macro test errored. {}\"\u001b[0m\u001b[0;34m.\u001b[0m\u001b[0mformat\u001b[0m\u001b[0;34m(\u001b[0m\u001b[0mstr\u001b[0m\u001b[0;34m(\u001b[0m\u001b[0me\u001b[0m\u001b[0;34m)\u001b[0m\u001b[0;34m)\u001b[0m\u001b[0;34m)\u001b[0m\u001b[0;34m\u001b[0m\u001b[0;34m\u001b[0m\u001b[0m\n",
      "\u001b[0;32m<ipython-input-16-fad4f5dbe1e2>\u001b[0m in \u001b[0;36m<module>\u001b[0;34m\u001b[0m\n\u001b[1;32m      9\u001b[0m     \u001b[0;32mwhile\u001b[0m \u001b[0;36m1\u001b[0m\u001b[0;34m:\u001b[0m\u001b[0;34m\u001b[0m\u001b[0;34m\u001b[0m\u001b[0m\n\u001b[1;32m     10\u001b[0m         \u001b[0mprint\u001b[0m\u001b[0;34m(\u001b[0m\u001b[0;34m\"\\n===== CELL {} ===== \"\u001b[0m\u001b[0;34m.\u001b[0m\u001b[0mformat\u001b[0m\u001b[0;34m(\u001b[0m\u001b[0mi\u001b[0m\u001b[0;34m)\u001b[0m\u001b[0;34m)\u001b[0m\u001b[0;34m\u001b[0m\u001b[0;34m\u001b[0m\u001b[0m\n\u001b[0;32m---> 11\u001b[0;31m         \u001b[0mcell\u001b[0m \u001b[0;34m=\u001b[0m \u001b[0mgen_cell\u001b[0m\u001b[0;34m(\u001b[0m\u001b[0mnp\u001b[0m\u001b[0;34m.\u001b[0m\u001b[0mrandom\u001b[0m\u001b[0;34m.\u001b[0m\u001b[0mrandint\u001b[0m\u001b[0;34m(\u001b[0m\u001b[0;36m5\u001b[0m\u001b[0;34m,\u001b[0m\u001b[0;36m15\u001b[0m\u001b[0;34m)\u001b[0m\u001b[0;34m,\u001b[0m\u001b[0mconnectivity\u001b[0m\u001b[0;34m=\u001b[0m\u001b[0mnp\u001b[0m\u001b[0;34m.\u001b[0m\u001b[0mrandom\u001b[0m\u001b[0;34m.\u001b[0m\u001b[0muniform\u001b[0m\u001b[0;34m(\u001b[0m\u001b[0;36m.1\u001b[0m\u001b[0;34m,\u001b[0m\u001b[0;36m.7\u001b[0m\u001b[0;34m)\u001b[0m\u001b[0;34m,\u001b[0m\u001b[0mconcat\u001b[0m\u001b[0;34m=\u001b[0m\u001b[0;36m.5\u001b[0m\u001b[0;34m)\u001b[0m\u001b[0;34m\u001b[0m\u001b[0;34m\u001b[0m\u001b[0m\n\u001b[0m\u001b[1;32m     12\u001b[0m         \u001b[0mmacro_scores\u001b[0m\u001b[0;34m,\u001b[0m\u001b[0mmacro_time\u001b[0m \u001b[0;34m=\u001b[0m \u001b[0mmacro_net\u001b[0m\u001b[0;34m(\u001b[0m\u001b[0mcell\u001b[0m\u001b[0;34m)\u001b[0m\u001b[0;34m\u001b[0m\u001b[0;34m\u001b[0m\u001b[0m\n\u001b[1;32m     13\u001b[0m         \u001b[0;32mif\u001b[0m \u001b[0mmax\u001b[0m\u001b[0;34m(\u001b[0m\u001b[0mmacro_scores\u001b[0m\u001b[0;34m)\u001b[0m\u001b[0;34m>\u001b[0m\u001b[0;36m1000\u001b[0m\u001b[0;34m:\u001b[0m\u001b[0;34m\u001b[0m\u001b[0;34m\u001b[0m\u001b[0m\n",
      "\u001b[0;32m~/Documents/Programming/Python/graph2net/graph2net/graph_generators.py\u001b[0m in \u001b[0;36mgen_cell\u001b[0;34m(nodes, connectivity, concat, verbose)\u001b[0m\n\u001b[1;32m    193\u001b[0m         \u001b[0mcell_a\u001b[0m \u001b[0;34m=\u001b[0m \u001b[0mgene_a\u001b[0m\u001b[0;34m(\u001b[0m\u001b[0mnodes\u001b[0m\u001b[0;34m,\u001b[0m \u001b[0mconnectivity\u001b[0m\u001b[0;34m)\u001b[0m\u001b[0;34m\u001b[0m\u001b[0;34m\u001b[0m\u001b[0m\n\u001b[1;32m    194\u001b[0m         \u001b[0mcell\u001b[0m \u001b[0;34m=\u001b[0m \u001b[0mgene_bc\u001b[0m\u001b[0;34m(\u001b[0m\u001b[0mcell_a\u001b[0m\u001b[0;34m,\u001b[0m \u001b[0mconcat\u001b[0m\u001b[0;34m)\u001b[0m\u001b[0;34m\u001b[0m\u001b[0;34m\u001b[0m\u001b[0m\n\u001b[0;32m--> 195\u001b[0;31m         \u001b[0mcell_mod\u001b[0m \u001b[0;34m=\u001b[0m \u001b[0mgene_mod\u001b[0m\u001b[0;34m(\u001b[0m\u001b[0mcell\u001b[0m\u001b[0;34m,\u001b[0m \u001b[0mverbose\u001b[0m\u001b[0;34m)\u001b[0m\u001b[0;34m\u001b[0m\u001b[0;34m\u001b[0m\u001b[0m\n\u001b[0m\u001b[1;32m    196\u001b[0m     \u001b[0;32mreturn\u001b[0m \u001b[0mcell_mod\u001b[0m\u001b[0;34m\u001b[0m\u001b[0;34m\u001b[0m\u001b[0m\n\u001b[1;32m    197\u001b[0m \u001b[0;34m\u001b[0m\u001b[0m\n",
      "\u001b[0;32m~/Documents/Programming/Python/graph2net/graph2net/graph_generators.py\u001b[0m in \u001b[0;36mgene_mod\u001b[0;34m(cell, verbose)\u001b[0m\n\u001b[1;32m    155\u001b[0m \u001b[0;34m\u001b[0m\u001b[0m\n\u001b[1;32m    156\u001b[0m \u001b[0;32mdef\u001b[0m \u001b[0mgene_mod\u001b[0m\u001b[0;34m(\u001b[0m\u001b[0mcell\u001b[0m\u001b[0;34m,\u001b[0m \u001b[0mverbose\u001b[0m\u001b[0;34m=\u001b[0m\u001b[0;32mFalse\u001b[0m\u001b[0;34m)\u001b[0m\u001b[0;34m:\u001b[0m\u001b[0;34m\u001b[0m\u001b[0;34m\u001b[0m\u001b[0m\n\u001b[0;32m--> 157\u001b[0;31m     \u001b[0mvalid\u001b[0m\u001b[0;34m,\u001b[0m \u001b[0mweights\u001b[0m\u001b[0;34m,\u001b[0m \u001b[0mamends\u001b[0m \u001b[0;34m=\u001b[0m \u001b[0mcell_traversals\u001b[0m\u001b[0;34m(\u001b[0m\u001b[0mcell\u001b[0m\u001b[0;34m,\u001b[0m \u001b[0mverbose\u001b[0m\u001b[0;34m)\u001b[0m\u001b[0;34m\u001b[0m\u001b[0;34m\u001b[0m\u001b[0m\n\u001b[0m\u001b[1;32m    158\u001b[0m     \u001b[0mnew_cell\u001b[0m \u001b[0;34m=\u001b[0m \u001b[0mcell\u001b[0m\u001b[0;34m.\u001b[0m\u001b[0mcopy\u001b[0m\u001b[0;34m(\u001b[0m\u001b[0;34m)\u001b[0m\u001b[0;34m\u001b[0m\u001b[0;34m\u001b[0m\u001b[0m\n\u001b[1;32m    159\u001b[0m     \u001b[0;32mif\u001b[0m \u001b[0mvalid\u001b[0m\u001b[0;34m:\u001b[0m\u001b[0;34m\u001b[0m\u001b[0;34m\u001b[0m\u001b[0m\n",
      "\u001b[0;32m~/Documents/Programming/Python/graph2net/graph2net/graph_generators.py\u001b[0m in \u001b[0;36mcell_traversals\u001b[0;34m(cell, verbose)\u001b[0m\n\u001b[1;32m     82\u001b[0m \u001b[0;34m\u001b[0m\u001b[0m\n\u001b[1;32m     83\u001b[0m                 \u001b[0mweights\u001b[0m\u001b[0;34m[\u001b[0m\u001b[0morigin\u001b[0m\u001b[0;34m,\u001b[0m \u001b[0mtarget\u001b[0m\u001b[0;34m]\u001b[0m \u001b[0;34m=\u001b[0m \u001b[0medge_weight\u001b[0m\u001b[0;34m\u001b[0m\u001b[0;34m\u001b[0m\u001b[0m\n\u001b[0;32m---> 84\u001b[0;31m                 \u001b[0mnodes\u001b[0m\u001b[0;34m[\u001b[0m\u001b[0mtarget\u001b[0m\u001b[0;34m]\u001b[0m \u001b[0;34m=\u001b[0m \u001b[0mnodes\u001b[0m\u001b[0;34m[\u001b[0m\u001b[0mtarget\u001b[0m\u001b[0;34m]\u001b[0m \u001b[0;34m+\u001b[0m \u001b[0medge_weight\u001b[0m \u001b[0;32mif\u001b[0m \u001b[0mcell\u001b[0m\u001b[0;34m[\u001b[0m\u001b[0mtarget\u001b[0m\u001b[0;34m,\u001b[0m \u001b[0mtarget\u001b[0m\u001b[0;34m]\u001b[0m \u001b[0;32melse\u001b[0m \u001b[0medge_weight\u001b[0m\u001b[0;34m\u001b[0m\u001b[0;34m\u001b[0m\u001b[0m\n\u001b[0m\u001b[1;32m     85\u001b[0m \u001b[0;34m\u001b[0m\u001b[0m\n\u001b[1;32m     86\u001b[0m                 \u001b[0;31m# add edge along to corresponding path(s)\u001b[0m\u001b[0;34m\u001b[0m\u001b[0;34m\u001b[0m\u001b[0;34m\u001b[0m\u001b[0m\n",
      "\u001b[0;31mKeyboardInterrupt\u001b[0m: "
     ]
    }
   ],
   "source": [
    "load=False\n",
    "if load:\n",
    "    results = pkl.load(open('micro_macro_results.pkl','rb'))\n",
    "else:\n",
    "    results = []\n",
    "\n",
    "try:\n",
    "    i = 0\n",
    "    while 1:\n",
    "        print(\"\\n===== CELL {} ===== \".format(i))\n",
    "        cell = gen_cell(np.random.randint(5,15),connectivity=np.random.uniform(.1,.7),concat=.5)\n",
    "        macro_scores,macro_time = macro_net(cell)\n",
    "        if max(macro_scores)>1000:\n",
    "            micro_scores,micro_time = micro_net(cell)        \n",
    "            notify_me(\"Test {} successful, moving on. Micro: {}, Macro: {}\".format(i,max(micro_scores),max(macro_scores)))\n",
    "            i+=1\n",
    "except KeyboardInterrupt as e:\n",
    "    raise e\n",
    "except Exception as e:\n",
    "    notify_me(\"Micro/Macro test errored. {}\".format(str(e)))\n",
    "    raise e"
   ]
  },
  {
   "cell_type": "code",
   "execution_count": null,
   "metadata": {
    "scrolled": false
   },
   "outputs": [],
   "source": [
    "cell = gen_cell(np.random.randint(5,15),connectivity=np.random.uniform(.2,.7),concat=.5)\n",
    "micro_scores,micro_time = micro_net(cell)        "
   ]
  },
  {
   "cell_type": "code",
   "execution_count": 25,
   "metadata": {},
   "outputs": [
    {
     "name": "stdout",
     "output_type": "stream",
     "text": [
      "== micro ==\n",
      "Validating model...[SUCCESS]\n",
      "Estimated Timelines:\n",
      "\t1 epoch   : 11.33 s\n",
      "\t64 epochs : 12 min, 5 s\n",
      "\t128 epochs: 24 min, 10 s\n",
      "\t512 epochs: 1 hrs, 36 mins, 40 s\n",
      "Number of parameters: 11,962\n",
      "Micro   8/8: 43.56%, Predicted: 4360 (±36.26))\r"
     ]
    },
    {
     "data": {
      "text/plain": [
       "(array([1411, 3437, 3818, 3927, 4131, 4343, 4266, 4356]), 105.285315990448)"
      ]
     },
     "execution_count": 25,
     "metadata": {},
     "output_type": "execute_result"
    }
   ],
   "source": [
    "cell = np.array(\n",
    "    [[ 0.,  1.,  1., 13., 13.,  1.,  1., 12., 15.,  0.,  0.],\n",
    "       [ 1.,  0.,  0.,  0.,  4.,  0.,  0.,  0.,  0.,  0.,  5.],\n",
    "       [ 1.,  0.,  0.,  0.,  0.,  0.,  0.,  0.,  0., 11.,  0.],\n",
    "       [ 1.,  0.,  0.,  0.,  0.,  0.,  0.,  0.,  0.,  0.,  1.],\n",
    "       [ 1.,  0.,  0.,  0.,  0.,  0.,  0.,  0.,  0.,  0.,  1.],\n",
    "       [ 1.,  0.,  0.,  0.,  0.,  0.,  0.,  0.,  0.,  0.,  1.],\n",
    "       [ 1.,  0.,  0.,  0.,  0.,  0.,  0.,  7.,  0.,  0., 15.],\n",
    "       [ 1.,  0.,  0.,  0.,  0.,  0.,  0.,  0.,  0.,  0.,  9.],\n",
    "       [ 1.,  0.,  0.,  0.,  0.,  0.,  0.,  0.,  0.,  0.,  1.],\n",
    "       [ 0.,  0.,  0.,  0.,  0.,  0.,  0.,  0.,  0.,  0.,  1.],\n",
    "       [ 0.,  0.,  0.,  0.,  0.,  0.,  0.,  0.,  0.,  0.,  1.]])\n",
    "micro_net(cell)  "
   ]
  },
  {
   "cell_type": "code",
   "execution_count": null,
   "metadata": {},
   "outputs": [],
   "source": []
  }
 ],
 "metadata": {
  "kernelspec": {
   "display_name": "Python 3",
   "language": "python",
   "name": "python3"
  },
  "language_info": {
   "codemirror_mode": {
    "name": "ipython",
    "version": 3
   },
   "file_extension": ".py",
   "mimetype": "text/x-python",
   "name": "python",
   "nbconvert_exporter": "python",
   "pygments_lexer": "ipython3",
   "version": "3.6.7"
  },
  "toc": {
   "base_numbering": 1,
   "nav_menu": {},
   "number_sections": true,
   "sideBar": true,
   "skip_h1_title": false,
   "title_cell": "Table of Contents",
   "title_sidebar": "Contents",
   "toc_cell": false,
   "toc_position": {},
   "toc_section_display": true,
   "toc_window_display": false
  },
  "varInspector": {
   "cols": {
    "lenName": 16,
    "lenType": 16,
    "lenVar": 40
   },
   "kernels_config": {
    "python": {
     "delete_cmd_postfix": "",
     "delete_cmd_prefix": "del ",
     "library": "var_list.py",
     "varRefreshCmd": "print(var_dic_list())"
    },
    "r": {
     "delete_cmd_postfix": ") ",
     "delete_cmd_prefix": "rm(",
     "library": "var_list.r",
     "varRefreshCmd": "cat(var_dic_list()) "
    }
   },
   "types_to_exclude": [
    "module",
    "function",
    "builtin_function_or_method",
    "instance",
    "_Feature"
   ],
   "window_display": false
  }
 },
 "nbformat": 4,
 "nbformat_minor": 2
}
