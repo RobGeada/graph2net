{
 "cells": [
  {
   "cell_type": "code",
   "execution_count": 2,
   "metadata": {},
   "outputs": [
    {
     "data": {
      "text/html": [
       "<style>.container { width:100% !important; }</style>"
      ],
      "text/plain": [
       "<IPython.core.display.HTML object>"
      ]
     },
     "metadata": {},
     "output_type": "display_data"
    }
   ],
   "source": [
    "from graph2net.trainers import gen_and_validate,generate,model_validate,full_model_run, max_model_size\n",
    "from graph2net.data_loaders import *\n",
    "from graph2net.graph_generators import *\n",
    "from graph2net.archetypes import resNeXt\n",
    "from graph2net.helpers import *\n",
    "from graph2net.notifier import notify_me\n",
    "import gc\n",
    "import logging\n",
    "import numpy as np\n",
    "import pandas as pd\n",
    "import pickle as pkl\n",
    "import time\n",
    "import os\n",
    "\n",
    "import random\n",
    "import matplotlib.pyplot as plt\n",
    "\n",
    "from IPython.core.display import display, HTML\n",
    "display(HTML(\"<style>.container { width:100% !important; }</style>\"))\n",
    "\n",
    "for handler in logging.root.handlers[:]:\n",
    "    logging.root.removeHandler(handler)\n",
    "logging.basicConfig(filename='logs/model_testbed.log', level=logging.INFO)\n",
    "\n",
    "%load_ext autoreload\n",
    "%autoreload 2"
   ]
  },
  {
   "cell_type": "markdown",
   "metadata": {},
   "source": [
    "# Test Settings"
   ]
  },
  {
   "cell_type": "code",
   "execution_count": 3,
   "metadata": {},
   "outputs": [],
   "source": [
    "catchup=False # or True\n",
    "random_pairs=False #or True\n",
    "scratch_test=False #or True"
   ]
  },
  {
   "cell_type": "markdown",
   "metadata": {},
   "source": [
    "# Global Variables and Helpers"
   ]
  },
  {
   "cell_type": "code",
   "execution_count": 4,
   "metadata": {},
   "outputs": [],
   "source": [
    "data = load_data(batch_size=256)\n",
    "\n",
    "lr_schedule512 = {\n",
    "    'type': 'cosine',\n",
    "    'lr_min': 0,\n",
    "    'lr_max': 1e-2,\n",
    "    't_0': 1,\n",
    "    't_mult': 2\n",
    "}\n",
    "\n",
    "def model_runner(model,epochs,prefix,drop):\n",
    "    try:\n",
    "        return full_model_run(model, \n",
    "                              data=data, \n",
    "                              epochs=epochs, \n",
    "                              lr=.025, \n",
    "                              momentum=.9, \n",
    "                              weight_decay=3e-4,\n",
    "                              lr_schedule=lr_schedule512,\n",
    "                              drop_path=drop,\n",
    "                              log=True,\n",
    "                              track_progress=True,\n",
    "                              prefix=prefix,\n",
    "                              verbose=False)\n",
    "    except Exception as e:\n",
    "        if \"CUDA\" in str(e):\n",
    "            del model\n",
    "            clean(verbose=False)\n",
    "            raise e\n",
    "        else:\n",
    "            raise e"
   ]
  },
  {
   "cell_type": "markdown",
   "metadata": {},
   "source": [
    "# Model Definitions"
   ]
  },
  {
   "cell_type": "markdown",
   "metadata": {},
   "source": [
    "   \n",
    "   \n",
    "   \n",
    "   \n",
    "   \n",
    "   \n",
    "   \n",
    "   \n",
    "   \n",
    "   \n",
    "   "
   ]
  },
  {
   "cell_type": "code",
   "execution_count": 4,
   "metadata": {},
   "outputs": [],
   "source": [
    "def general_net(cell,epochs,prefix,**kwargs):\n",
    "    print(\"\\n== {} ==\".format(prefix))\n",
    "    clean(None,'general init')\n",
    "    t_start = time.time()\n",
    "    \n",
    "    reason = None\n",
    "    if kwargs.get(\"max_size\",False):\n",
    "        config = max_model_size(cell,data,auxiliaries=kwargs.get('aux',[None]))\n",
    "        if config:\n",
    "            print(\"Scale: {}, Spacing: {}, Parallel: {}, Params: {:,}\".format(*config))\n",
    "            scale,spacing,params = config \n",
    "            reductions = 5\n",
    "        else:\n",
    "            model,valid,reason=False,False,\"No Config\"                                                 \n",
    "    else:\n",
    "        scale,spacing,reductions = kwargs['scale'],kwargs['spacing'],kwargs['reductions'] \n",
    "    print(scale,spacing,reductions)\n",
    "    clean(None,\"post config\")\n",
    "    print(\"Pre GV:\",mem_stats())\n",
    "    if reason is None:\n",
    "        print(scale,kwargs.get('aux'),cell_space(reductions,spacing))\n",
    "        model, valid, reason = gen_and_validate([cell],\n",
    "                                                data,\n",
    "                                                scale=scale,\n",
    "                                                auxiliaries=kwargs.get('aux',[None]),\n",
    "                                                cell_types=cell_space(reductions,spacing))\n",
    "        clean(model,'post gv')\n",
    "    if valid:\n",
    "        print(\"Post Validation:\",mem_stats())\n",
    "        try:\n",
    "            loss, correct, preds,acc_preds,confs = model_runner(model,epochs,prefix,drop=kwargs['drop'])\n",
    "        except KeyboardInterrupt as e:\n",
    "            print('Keyboard Interrupt!')\n",
    "            correct = [0]\n",
    "            clean(model,\"general net interrupt\")\n",
    "            raise e\n",
    "        except RuntimeError as e:\n",
    "            if \"CUDA\" in str(e):\n",
    "                print(\"CUDA: Out of memory\")\n",
    "                correct = [0]\n",
    "                clean(model,\"CUDA error\")\n",
    "            else:\n",
    "                clean(model,\"other Error\")\n",
    "                raise e\n",
    "    else:\n",
    "        print(\"Model Invalid:\",reason)\n",
    "        correct = [0]\n",
    "                                     \n",
    "    clean(model,\"general net end\")\n",
    "    return correct,time.time()-t_start\n",
    "\n",
    "def micro_net(cell,epochs=32):\n",
    "    return general_net(cell,epochs=epochs,scale=2,spacing=0,reductions=2,prefix='Micro',drop=False)\n",
    "\n",
    "def micro_net5(cell):\n",
    "    return general_net(cell,epochs=8, scale=2,spacing=0,reductions=5,prefix='Micro5',drop=False)\n",
    "    \n",
    "def macro_net(cell,epochs=128):\n",
    "    return general_net(cell,epochs=epochs,max_size=True,aux=[2,3,4],prefix='Macro',drop=True)\n",
    "\n",
    "def manual_net(cell,epochs,scale,spacing,aux=[2],reductions=5,drop=True):\n",
    "    return general_net(cell,epochs,scale=scale,spacing=spacing,reductions=reductions,aux=aux,prefix='Manual',drop=drop)"
   ]
  },
  {
   "cell_type": "markdown",
   "metadata": {
    "heading_collapsed": true
   },
   "source": [
    "# Catchup Micro with Existing Macros"
   ]
  },
  {
   "cell_type": "code",
   "execution_count": 5,
   "metadata": {
    "hidden": true,
    "scrolled": true
   },
   "outputs": [],
   "source": [
    "if catchup:\n",
    "    cells = pkl.load(open('pickle_jar/all_macro_cells.pkl','rb'))\n",
    "    cells = [x[0] if len(x)<3 else np.array(x) for x in cells]\n",
    "\n",
    "    micro_times,micro5_times = [],[]\n",
    "    for i,cell in enumerate(cells):\n",
    "        print(\"{:>3} of {:<3}\".format(i,len(cells)))\n",
    "        try:\n",
    "            _,micro_time = micro_net(cell)\n",
    "            _,micro5_time = micro_net5(cell)\n",
    "            micro_times.append(micro_time)\n",
    "            micro5_times.append(micro5_time)\n",
    "            print(\"Mean Micro Time:\",np.mean(micro_times))\n",
    "            print(\"Mean Micro5 Time:\",np.mean(micro5_times))\n",
    "        except KeyboardInterrupt as e:\n",
    "            raise e\n",
    "        except Exception as e:\n",
    "            if \"Input Mismatch for Summation Node\" in str(e):\n",
    "                print(\"Skipping broken cell\")\n",
    "            else:\n",
    "                raise e"
   ]
  },
  {
   "cell_type": "markdown",
   "metadata": {
    "heading_collapsed": true
   },
   "source": [
    "# Test Random Micro/Macro Pairs"
   ]
  },
  {
   "cell_type": "code",
   "execution_count": 6,
   "metadata": {
    "hidden": true,
    "scrolled": true
   },
   "outputs": [],
   "source": [
    "if random_pairs:\n",
    "    try:\n",
    "        i = 0\n",
    "        while 1:\n",
    "            print(\"\\n===== CELL {} ===== \".format(i))\n",
    "            cell = gen_cell(np.random.randint(3,10),connectivity=np.random.uniform(.3,.7),concat=.5)        \n",
    "            micro_scores,micro_time = micro_net(cell)\n",
    "            micro5_scores,micro5_time = micro_net5(cell)     \n",
    "            macro_scores,macro_time = macro_net(cell)\n",
    "            notify_me(\"Test {} successful, moving on. Micro: {}, Micro5: {}, Macro: {}\".format(i,max(micro_scores),max(micro5_scores),max(macro_scores)))\n",
    "            i+=1\n",
    "    except KeyboardInterrupt as e:\n",
    "        raise e\n",
    "    except Exception as e:\n",
    "        notify_me(\"Micro/Macro test errored. {}\".format(str(e)))\n",
    "        raise e"
   ]
  },
  {
   "cell_type": "markdown",
   "metadata": {},
   "source": [
    "# Scratch Testing Space"
   ]
  },
  {
   "cell_type": "code",
   "execution_count": 7,
   "metadata": {
    "scrolled": true
   },
   "outputs": [],
   "source": [
    "def scratch_tester1():\n",
    "    cell = np.array([[0, 1, 0, 1],\n",
    "            [1, 0, 9, 0],\n",
    "            [0, 0, 0, 1],\n",
    "            [1, 0, 0, 1]])\n",
    "    macro_net(cell,epochs=1)\n",
    "    clean(None,'scratch test')\n",
    "\n",
    "def scratch_tester2():\n",
    "    cell = np.array([[0, 1, 0, 1],\n",
    "            [1, 0, 9, 0],\n",
    "            [0, 0, 0, 1],\n",
    "            [1, 0, 0, 1]])\n",
    "    manual_net(cell,epochs=1,scale=7,spacing=2,aux=[2,3,4])\n",
    "    clean(None,'scratch test')\n",
    "\n",
    "if scratch_test:\n",
    "    scratch_tester1()\n",
    "    scratch_tester2()"
   ]
  },
  {
   "cell_type": "markdown",
   "metadata": {},
   "source": [
    "# Non-deterministic weirdness"
   ]
  },
  {
   "cell_type": "code",
   "execution_count": 4,
   "metadata": {},
   "outputs": [
    {
     "name": "stdout",
     "output_type": "stream",
     "text": [
      "\n",
      "Cleaning up at None...\n",
      "Pre: 0.00B\n",
      "Post: 0.00B\n"
     ]
    }
   ],
   "source": [
    "clean(None,None)\n",
    "cell = np.array([[0, 1, 0, 1],\n",
    "                [1, 0, 9, 0],\n",
    "                [0, 0, 0, 1],\n",
    "                [1, 0, 0, 1]])"
   ]
  },
  {
   "cell_type": "code",
   "execution_count": 1,
   "metadata": {},
   "outputs": [
    {
     "ename": "NameError",
     "evalue": "name 'max_model_size' is not defined",
     "output_type": "error",
     "traceback": [
      "\u001b[0;31m---------------------------------------------------------------------------\u001b[0m",
      "\u001b[0;31mNameError\u001b[0m                                 Traceback (most recent call last)",
      "\u001b[0;32m<ipython-input-1-1ec2e777f5f2>\u001b[0m in \u001b[0;36m<module>\u001b[0;34m\u001b[0m\n\u001b[1;32m      1\u001b[0m \u001b[0;32mwhile\u001b[0m \u001b[0;36m1\u001b[0m\u001b[0;34m:\u001b[0m\u001b[0;34m\u001b[0m\u001b[0;34m\u001b[0m\u001b[0m\n\u001b[0;32m----> 2\u001b[0;31m     \u001b[0mmax_model_size\u001b[0m\u001b[0;34m(\u001b[0m\u001b[0mcell\u001b[0m\u001b[0;34m,\u001b[0m\u001b[0mdata\u001b[0m\u001b[0;34m,\u001b[0m\u001b[0mauxiliaries\u001b[0m\u001b[0;34m=\u001b[0m\u001b[0;34m[\u001b[0m\u001b[0;36m2\u001b[0m\u001b[0;34m,\u001b[0m\u001b[0;36m3\u001b[0m\u001b[0;34m,\u001b[0m\u001b[0;36m4\u001b[0m\u001b[0;34m]\u001b[0m\u001b[0;34m)\u001b[0m\u001b[0;34m\u001b[0m\u001b[0;34m\u001b[0m\u001b[0m\n\u001b[0m\u001b[1;32m      3\u001b[0m     \u001b[0mclean\u001b[0m\u001b[0;34m(\u001b[0m\u001b[0;32mNone\u001b[0m\u001b[0;34m,\u001b[0m\u001b[0;32mNone\u001b[0m\u001b[0;34m)\u001b[0m\u001b[0;34m\u001b[0m\u001b[0;34m\u001b[0m\u001b[0m\n",
      "\u001b[0;31mNameError\u001b[0m: name 'max_model_size' is not defined"
     ]
    }
   ],
   "source": [
    "while 1:\n",
    "    max_model_size(cell,data,auxiliaries=[2,3,4])\n",
    "    clean(None,None)"
   ]
  },
  {
   "cell_type": "code",
   "execution_count": null,
   "metadata": {},
   "outputs": [],
   "source": []
  }
 ],
 "metadata": {
  "kernelspec": {
   "display_name": "Python 3",
   "language": "python",
   "name": "python3"
  },
  "language_info": {
   "codemirror_mode": {
    "name": "ipython",
    "version": 3
   },
   "file_extension": ".py",
   "mimetype": "text/x-python",
   "name": "python",
   "nbconvert_exporter": "python",
   "pygments_lexer": "ipython3",
   "version": "3.6.7"
  },
  "toc": {
   "base_numbering": 1,
   "nav_menu": {},
   "number_sections": true,
   "sideBar": true,
   "skip_h1_title": false,
   "title_cell": "Table of Contents",
   "title_sidebar": "Contents",
   "toc_cell": false,
   "toc_position": {},
   "toc_section_display": true,
   "toc_window_display": false
  },
  "varInspector": {
   "cols": {
    "lenName": 16,
    "lenType": 16,
    "lenVar": 40
   },
   "kernels_config": {
    "python": {
     "delete_cmd_postfix": "",
     "delete_cmd_prefix": "del ",
     "library": "var_list.py",
     "varRefreshCmd": "print(var_dic_list())"
    },
    "r": {
     "delete_cmd_postfix": ") ",
     "delete_cmd_prefix": "rm(",
     "library": "var_list.r",
     "varRefreshCmd": "cat(var_dic_list()) "
    }
   },
   "types_to_exclude": [
    "module",
    "function",
    "builtin_function_or_method",
    "instance",
    "_Feature"
   ],
   "window_display": false
  }
 },
 "nbformat": 4,
 "nbformat_minor": 2
}
