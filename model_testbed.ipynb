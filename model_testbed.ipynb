{
 "cells": [
  {
   "cell_type": "code",
   "execution_count": 1,
   "metadata": {},
   "outputs": [
    {
     "data": {
      "text/html": [
       "<style>.container { width:100% !important; }</style>"
      ],
      "text/plain": [
       "<IPython.core.display.HTML object>"
      ]
     },
     "metadata": {},
     "output_type": "display_data"
    }
   ],
   "source": [
    "from graph2net.trainers import gen_and_validate,generate,model_validate,full_model_run\n",
    "from graph2net.data_loaders import *\n",
    "from graph2net.graph_generators import *\n",
    "from graph2net.archetypes import inception\n",
    "from graph2net.helpers import *\n",
    "from graph2net.notifier import notify_me\n",
    "import logging\n",
    "import numpy as np\n",
    "import pandas as pd\n",
    "import pickle as pkl\n",
    "import time\n",
    "import os\n",
    "import random\n",
    "import matplotlib.pyplot as plt\n",
    "\n",
    "\n",
    "from IPython.core.display import display, HTML\n",
    "display(HTML(\"<style>.container { width:100% !important; }</style>\"))\n",
    "\n",
    "for handler in logging.root.handlers[:]:\n",
    "    logging.root.removeHandler(handler)\n",
    "logging.basicConfig(filename='logs/model_testbed.log', level=logging.INFO)\n",
    "\n",
    "%load_ext autoreload\n",
    "%autoreload 2"
   ]
  },
  {
   "cell_type": "code",
   "execution_count": 2,
   "metadata": {},
   "outputs": [],
   "source": [
    "data = load_data(batch_size=256)"
   ]
  },
  {
   "cell_type": "code",
   "execution_count": 3,
   "metadata": {},
   "outputs": [],
   "source": [
    "lr_schedule512 = {\n",
    "    'type': 'cosine',\n",
    "    'lr_min': .00001,\n",
    "    'lr_max': .01,\n",
    "    't_0': 1,\n",
    "    't_mult': 2\n",
    "}"
   ]
  },
  {
   "cell_type": "markdown",
   "metadata": {},
   "source": [
    "   \n",
    "   \n",
    "   \n",
    "   \n",
    "   \n",
    "   \n",
    "   \n",
    "   \n",
    "   \n",
    "   \n",
    "   "
   ]
  },
  {
   "cell_type": "code",
   "execution_count": 6,
   "metadata": {},
   "outputs": [],
   "source": [
    "def micro_net(cell):\n",
    "    print(\"== micro ==\")\n",
    "    t_start = time.time()\n",
    "    model = gen_and_validate([cell],data,scale=2,cell_types=[1,1])\n",
    "    loss, correct, preds,acc_preds  = full_model_run(model,\n",
    "                                          data=data,\n",
    "                                          epochs=8,\n",
    "                                          lr=.01,\n",
    "                                          momentum=.9,\n",
    "                                          weight_decay=1e-4,\n",
    "                                          lr_schedule=lr_schedule512,\n",
    "                                          drop_path=False,\n",
    "                                          log=True,\n",
    "                                          track_progress=True,\n",
    "                                          prefix=\"Micro\",\n",
    "                                          verbose=False)\n",
    "    return correct,time.time()-t_start\n",
    "\n",
    "def macro_net(cell):\n",
    "    print(\"\\n== macro ==\")\n",
    "    t_start = time.time()\n",
    "    model = gen_and_validate([cell,cell],data,scale=5,cell_types=[1,0,0,1,0,0,1,0,0,1,0,0,1])\n",
    "    if not model:\n",
    "        return np.zeros(512),0\n",
    "    else:\n",
    "        loss, correct, preds,acc_preds = full_model_run(model,\n",
    "                                              data=data,\n",
    "                                              epochs=512,\n",
    "                                              lr=.01,\n",
    "                                              momentum=.9,\n",
    "                                              weight_decay=1e-4,\n",
    "                                              lr_schedule=lr_schedule512,\n",
    "                                              drop_path=True,\n",
    "                                              log=True,\n",
    "                                              track_progress=True,\n",
    "                                              prefix=\"Macro\",\n",
    "                                              verbose=False)\n",
    "    \n",
    "        return correct,time.time()-t_start"
   ]
  },
  {
   "cell_type": "code",
   "execution_count": null,
   "metadata": {
    "scrolled": true
   },
   "outputs": [
    {
     "name": "stdout",
     "output_type": "stream",
     "text": [
      "\n",
      "===== CELL 0 ===== \n",
      "== micro ==\n",
      "Validating model...[SUCCESS]\n",
      "Estimated Timelines:\n",
      "\t1 epoch   : 14.86 s\n",
      "\t64 epochs : 15 min, 51 s\n",
      "\t128 epochs: 31 min, 42 s\n",
      "\t512 epochs: 2 hrs, 6 mins, 48 s\n",
      "Number of parameters: 8,178\n",
      "Micro   8/8: 40.11%, Predicted: 4011 (±0.00)2))\n",
      "== macro ==\n",
      "\n",
      "===== CELL 1 ===== \n",
      "== micro ==\n",
      "Validating model...[SUCCESS]\n",
      "Estimated Timelines:\n",
      "\t1 epoch   : 11.08 s\n",
      "\t64 epochs : 11 min, 49 s\n",
      "\t128 epochs: 23 min, 38 s\n",
      "\t512 epochs: 1 hrs, 34 mins, 33 s\n",
      "Number of parameters: 5,990\n",
      "Micro   8/8: 47.03%, Predicted: 4703 (±0.00)2))\n",
      "== macro ==\n",
      "Validating model...[SUCCESS]\n",
      "Estimated Timelines:\n",
      "\t1 epoch   : 46.23 s\n",
      "\t64 epochs : 49 min, 18 s\n",
      "\t128 epochs: 1 hrs, 38 mins, 37 s\n",
      "\t512 epochs: 6 hrs, 34 mins, 28 s\n",
      "Number of parameters: 788,762\n",
      "Macro   7/512: 10.00%, Predicted: 5768 (±935.82))\r"
     ]
    }
   ],
   "source": [
    "load=False\n",
    "if load:\n",
    "    results = pkl.load(open('micro_macro_results.pkl','rb'))\n",
    "else:\n",
    "    results = []\n",
    "\n",
    "try:\n",
    "    for i in range(50):\n",
    "        print(\"\\n===== CELL {} ===== \".format(i))\n",
    "        cell = gen_cell(np.random.randint(3,8),connectivity=np.random.uniform(.3,.7),concat=.5)\n",
    "        micro_scores,micro_time = micro_net(cell)\n",
    "        macro_scores,macro_time = macro_net(cell)\n",
    "        results.append({'micro_scores':micro_scores,'macro_scores':macro_scores,'micro_time':micro_time,'macro_time':macro_time})\n",
    "        pkl.dump(results,open('micro_macro_results.pkl','wb'))\n",
    "        \n",
    "        notify_me(\"Test {} successful, moving on. Micro: {}, Macro: {}\".format(i,max(micro_scores),max(macro_scores)))\n",
    "except KeyboardInterrupt as e:\n",
    "    raise e\n",
    "except Exception as e:\n",
    "    notify_me(\"Micro/Macro test errored. {}\".format(str(e)))\n",
    "    raise e"
   ]
  },
  {
   "cell_type": "code",
   "execution_count": null,
   "metadata": {},
   "outputs": [],
   "source": [
    "notify_me(\"Micro/Macro test finished!\")"
   ]
  },
  {
   "cell_type": "code",
   "execution_count": null,
   "metadata": {},
   "outputs": [],
   "source": [
    "a = [{'a':[50,100,150],'b':[1000,1500,2000],'c':150,'d':5}]\n",
    "pd.DataFrame.from_records(a)"
   ]
  },
  {
   "cell_type": "code",
   "execution_count": null,
   "metadata": {},
   "outputs": [],
   "source": [
    "\"{:,}\".format(1.5e7)"
   ]
  },
  {
   "cell_type": "code",
   "execution_count": null,
   "metadata": {},
   "outputs": [],
   "source": []
  }
 ],
 "metadata": {
  "kernelspec": {
   "display_name": "Python 3",
   "language": "python",
   "name": "python3"
  },
  "language_info": {
   "codemirror_mode": {
    "name": "ipython",
    "version": 3
   },
   "file_extension": ".py",
   "mimetype": "text/x-python",
   "name": "python",
   "nbconvert_exporter": "python",
   "pygments_lexer": "ipython3",
   "version": "3.6.7"
  },
  "toc": {
   "base_numbering": 1,
   "nav_menu": {},
   "number_sections": true,
   "sideBar": true,
   "skip_h1_title": false,
   "title_cell": "Table of Contents",
   "title_sidebar": "Contents",
   "toc_cell": false,
   "toc_position": {},
   "toc_section_display": true,
   "toc_window_display": false
  },
  "varInspector": {
   "cols": {
    "lenName": 16,
    "lenType": 16,
    "lenVar": 40
   },
   "kernels_config": {
    "python": {
     "delete_cmd_postfix": "",
     "delete_cmd_prefix": "del ",
     "library": "var_list.py",
     "varRefreshCmd": "print(var_dic_list())"
    },
    "r": {
     "delete_cmd_postfix": ") ",
     "delete_cmd_prefix": "rm(",
     "library": "var_list.r",
     "varRefreshCmd": "cat(var_dic_list()) "
    }
   },
   "types_to_exclude": [
    "module",
    "function",
    "builtin_function_or_method",
    "instance",
    "_Feature"
   ],
   "window_display": false
  }
 },
 "nbformat": 4,
 "nbformat_minor": 2
}
