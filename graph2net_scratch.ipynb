{
 "cells": [
  {
   "cell_type": "code",
   "execution_count": 1,
   "metadata": {},
   "outputs": [],
   "source": [
    "from graph2net.utils import gen_and_validate, full_model_run\n",
    "from graph2net.archetypes import inception"
   ]
  },
  {
   "cell_type": "code",
   "execution_count": 2,
   "metadata": {},
   "outputs": [
    {
     "name": "stdout",
     "output_type": "stream",
     "text": [
      "Files already downloaded and verified\n",
      "Files already downloaded and verified\n",
      "Validating model...[SUCCESS]\n"
     ]
    }
   ],
   "source": [
    "inception_model = gen_and_validate(inception,verbose=False,keep_model=True)"
   ]
  },
  {
   "cell_type": "code",
   "execution_count": null,
   "metadata": {},
   "outputs": [
    {
     "name": "stdout",
     "output_type": "stream",
     "text": [
      "Files already downloaded and verified\n",
      "Files already downloaded and verified\n",
      "\n",
      "Train Epoch: 0 [15600/50000 (99%)]\tLoss: 2.050048\n",
      "Epoch Time: 13.306834936141968\n",
      "\n",
      "Test Loss -0.37 Corrects 3727 / 10000\n",
      "Adjusting lr to 0.010000000000000002\n",
      "\n",
      "Train Epoch: 1 [15600/50000 (99%)]\tLoss: 2.054894\n",
      "Epoch Time: 13.182834386825562\n",
      "\n",
      "Test Loss -0.51 Corrects 5183 / 10000\n",
      "\n",
      "Train Epoch: 2 [11520/50000 (23%)]\tLoss: 1.858964\r"
     ]
    }
   ],
   "source": [
    "full_model_run(inception_model,**{\"epochs\":100,\"lr\":.1,\"momentum\":.9,\"weight_decay\":1e-4})"
   ]
  },
  {
   "cell_type": "code",
   "execution_count": null,
   "metadata": {},
   "outputs": [],
   "source": []
  }
 ],
 "metadata": {
  "kernelspec": {
   "display_name": "Python 3",
   "language": "python",
   "name": "python3"
  },
  "language_info": {
   "codemirror_mode": {
    "name": "ipython",
    "version": 3
   },
   "file_extension": ".py",
   "mimetype": "text/x-python",
   "name": "python",
   "nbconvert_exporter": "python",
   "pygments_lexer": "ipython3",
   "version": "3.6.6"
  }
 },
 "nbformat": 4,
 "nbformat_minor": 2
}
